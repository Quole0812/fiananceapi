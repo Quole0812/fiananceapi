{
  "nbformat": 4,
  "nbformat_minor": 0,
  "metadata": {
    "colab": {
      "provenance": []
    },
    "kernelspec": {
      "name": "python3",
      "display_name": "Python 3"
    },
    "language_info": {
      "name": "python"
    }
  },
  "cells": [
    {
      "cell_type": "markdown",
      "source": [
        "#Task 1"
      ],
      "metadata": {
        "id": "icf3_gTabLuh"
      }
    },
    {
      "cell_type": "code",
      "execution_count": null,
      "metadata": {
        "id": "J4Uga58YuFmZ"
      },
      "outputs": [],
      "source": [
        "import json\n",
        "import pandas as pd\n",
        "import json\n",
        "import requests"
      ]
    },
    {
      "cell_type": "code",
      "source": [
        "#get stock from the user\n",
        "stock=input(\"plz put in 2 or more stocks, separated by commas, like NASDAQ,GOOGL,....\")"
      ],
      "metadata": {
        "colab": {
          "base_uri": "https://localhost:8080/"
        },
        "id": "s0YaWykeuOSI",
        "outputId": "3c954dbb-d445-40fd-db10-ef3fc2133ba7"
      },
      "execution_count": null,
      "outputs": [
        {
          "name": "stdout",
          "output_type": "stream",
          "text": [
            "plz put in 2 or more stocks, separated by commas, like NASDAQ,GOOGL,....GOOG\n"
          ]
        }
      ]
    },
    {
      "cell_type": "code",
      "source": [
        "apikey=\"\"\n",
        "\n",
        "url = \"https://yfapi.net/v6/finance/quote\"\n",
        "\n",
        "querystring = {\"symbols\":stock}\n",
        "\n",
        "headers = {\n",
        "    'x-api-key': apikey\n",
        "    }\n",
        "\n",
        "response = requests.request(\"GET\", url, headers=headers, params=querystring)\n",
        "\n",
        "\n",
        "df = pd.DataFrame(response.json()['quoteResponse']['result'])\n",
        "\n",
        "\n",
        "saved = df[['symbol', 'longName', 'regularMarketPrice']]\n",
        "\n",
        "\n",
        "\n",
        "for row in df.itertuples():\n",
        "    print(f\"Stock Ticker: {row.symbol}, Company: {row.longName}, Current Market Price: ${row.regularMarketPrice}\")\n",
        "\n",
        "    #Stock Ticker: AAPL, Company: Apple Inc., Current Market Price: $175.23"
      ],
      "metadata": {
        "colab": {
          "base_uri": "https://localhost:8080/"
        },
        "id": "O04WyyGaucWI",
        "outputId": "28498db7-0686-42f2-b099-d56ce69e932f"
      },
      "execution_count": null,
      "outputs": [
        {
          "output_type": "stream",
          "name": "stdout",
          "text": [
            "Stock Ticker: GOOG, Company: Alphabet Inc., Current Market Price: $177.37\n"
          ]
        }
      ]
    },
    {
      "cell_type": "markdown",
      "source": [
        "#Task 2.1"
      ],
      "metadata": {
        "id": "CHZnPpNaJ6sG"
      }
    },
    {
      "cell_type": "markdown",
      "source": [
        "For 52 week high, 52 week low, or ROA, we need either summaryDetail or financialData"
      ],
      "metadata": {
        "id": "HPzaTXidKY3M"
      }
    },
    {
      "cell_type": "code",
      "source": [
        "url = \"https://yfapi.net/v11/finance/quoteSummary/\"\n",
        "\n",
        "ticker_symbols =input(\"Enter Stock Name: \")\n",
        "module = \"summaryDetail,financialData\"\n",
        "\n",
        "\n",
        "querystring = {\n",
        "    \"symbol\":ticker_symbols,\n",
        "    \"modules\": module\n",
        "}\n",
        "\n",
        "headers = {\n",
        "    'x-api-key': apikey\n",
        "}\n",
        "\n",
        "\n",
        "response = requests.request(\"GET\", url+ticker_symbols, headers=headers, params=querystring)\n",
        "data = response.json()['quoteSummary']['result'][0]\n",
        "\n",
        "\n",
        "df = pd.json_normalize(data)\n",
        "print(\"\\nTask 2.1 DataFrame Output:\")\n",
        "df.head()\n",
        "\n"
      ],
      "metadata": {
        "id": "jo0QOoGAv52L",
        "colab": {
          "base_uri": "https://localhost:8080/",
          "height": 182
        },
        "outputId": "e2c16723-b97d-479d-f414-675faf52f47d"
      },
      "execution_count": null,
      "outputs": [
        {
          "output_type": "stream",
          "name": "stdout",
          "text": [
            "Enter Stock Name: GOOG\n",
            "\n",
            "Task 2.1 DataFrame Output:\n"
          ]
        },
        {
          "output_type": "execute_result",
          "data": {
            "text/plain": [
              "   summaryDetail.maxAge  summaryDetail.priceHint.raw  \\\n",
              "0                     1                            2   \n",
              "\n",
              "  summaryDetail.priceHint.fmt summaryDetail.priceHint.longFmt  \\\n",
              "0                           2                               2   \n",
              "\n",
              "   summaryDetail.previousClose.raw summaryDetail.previousClose.fmt  \\\n",
              "0                           181.19                          181.19   \n",
              "\n",
              "   summaryDetail.open.raw summaryDetail.open.fmt  summaryDetail.dayLow.raw  \\\n",
              "0                 180.155                 180.15                    176.78   \n",
              "\n",
              "  summaryDetail.dayLow.fmt  ...  financialData.revenueGrowth.fmt  \\\n",
              "0                   176.78  ...                           11.80%   \n",
              "\n",
              "  financialData.grossMargins.raw  financialData.grossMargins.fmt  \\\n",
              "0                          0.582                          58.20%   \n",
              "\n",
              "  financialData.ebitdaMargins.raw  financialData.ebitdaMargins.fmt  \\\n",
              "0                         0.36997                           37.00%   \n",
              "\n",
              "  financialData.operatingMargins.raw  financialData.operatingMargins.fmt  \\\n",
              "0                            0.33967                              33.97%   \n",
              "\n",
              "  financialData.profitMargins.raw  financialData.profitMargins.fmt  \\\n",
              "0                         0.28604                           28.60%   \n",
              "\n",
              "  financialData.financialCurrency  \n",
              "0                             USD  \n",
              "\n",
              "[1 rows x 148 columns]"
            ],
            "text/html": [
              "\n",
              "  <div id=\"df-601646fd-4a00-4bf1-8e02-e1edfe0a5ee5\" class=\"colab-df-container\">\n",
              "    <div>\n",
              "<style scoped>\n",
              "    .dataframe tbody tr th:only-of-type {\n",
              "        vertical-align: middle;\n",
              "    }\n",
              "\n",
              "    .dataframe tbody tr th {\n",
              "        vertical-align: top;\n",
              "    }\n",
              "\n",
              "    .dataframe thead th {\n",
              "        text-align: right;\n",
              "    }\n",
              "</style>\n",
              "<table border=\"1\" class=\"dataframe\">\n",
              "  <thead>\n",
              "    <tr style=\"text-align: right;\">\n",
              "      <th></th>\n",
              "      <th>summaryDetail.maxAge</th>\n",
              "      <th>summaryDetail.priceHint.raw</th>\n",
              "      <th>summaryDetail.priceHint.fmt</th>\n",
              "      <th>summaryDetail.priceHint.longFmt</th>\n",
              "      <th>summaryDetail.previousClose.raw</th>\n",
              "      <th>summaryDetail.previousClose.fmt</th>\n",
              "      <th>summaryDetail.open.raw</th>\n",
              "      <th>summaryDetail.open.fmt</th>\n",
              "      <th>summaryDetail.dayLow.raw</th>\n",
              "      <th>summaryDetail.dayLow.fmt</th>\n",
              "      <th>...</th>\n",
              "      <th>financialData.revenueGrowth.fmt</th>\n",
              "      <th>financialData.grossMargins.raw</th>\n",
              "      <th>financialData.grossMargins.fmt</th>\n",
              "      <th>financialData.ebitdaMargins.raw</th>\n",
              "      <th>financialData.ebitdaMargins.fmt</th>\n",
              "      <th>financialData.operatingMargins.raw</th>\n",
              "      <th>financialData.operatingMargins.fmt</th>\n",
              "      <th>financialData.profitMargins.raw</th>\n",
              "      <th>financialData.profitMargins.fmt</th>\n",
              "      <th>financialData.financialCurrency</th>\n",
              "    </tr>\n",
              "  </thead>\n",
              "  <tbody>\n",
              "    <tr>\n",
              "      <th>0</th>\n",
              "      <td>1</td>\n",
              "      <td>2</td>\n",
              "      <td>2</td>\n",
              "      <td>2</td>\n",
              "      <td>181.19</td>\n",
              "      <td>181.19</td>\n",
              "      <td>180.155</td>\n",
              "      <td>180.15</td>\n",
              "      <td>176.78</td>\n",
              "      <td>176.78</td>\n",
              "      <td>...</td>\n",
              "      <td>11.80%</td>\n",
              "      <td>0.582</td>\n",
              "      <td>58.20%</td>\n",
              "      <td>0.36997</td>\n",
              "      <td>37.00%</td>\n",
              "      <td>0.33967</td>\n",
              "      <td>33.97%</td>\n",
              "      <td>0.28604</td>\n",
              "      <td>28.60%</td>\n",
              "      <td>USD</td>\n",
              "    </tr>\n",
              "  </tbody>\n",
              "</table>\n",
              "<p>1 rows × 148 columns</p>\n",
              "</div>\n",
              "    <div class=\"colab-df-buttons\">\n",
              "\n",
              "  <div class=\"colab-df-container\">\n",
              "    <button class=\"colab-df-convert\" onclick=\"convertToInteractive('df-601646fd-4a00-4bf1-8e02-e1edfe0a5ee5')\"\n",
              "            title=\"Convert this dataframe to an interactive table.\"\n",
              "            style=\"display:none;\">\n",
              "\n",
              "  <svg xmlns=\"http://www.w3.org/2000/svg\" height=\"24px\" viewBox=\"0 -960 960 960\">\n",
              "    <path d=\"M120-120v-720h720v720H120Zm60-500h600v-160H180v160Zm220 220h160v-160H400v160Zm0 220h160v-160H400v160ZM180-400h160v-160H180v160Zm440 0h160v-160H620v160ZM180-180h160v-160H180v160Zm440 0h160v-160H620v160Z\"/>\n",
              "  </svg>\n",
              "    </button>\n",
              "\n",
              "  <style>\n",
              "    .colab-df-container {\n",
              "      display:flex;\n",
              "      gap: 12px;\n",
              "    }\n",
              "\n",
              "    .colab-df-convert {\n",
              "      background-color: #E8F0FE;\n",
              "      border: none;\n",
              "      border-radius: 50%;\n",
              "      cursor: pointer;\n",
              "      display: none;\n",
              "      fill: #1967D2;\n",
              "      height: 32px;\n",
              "      padding: 0 0 0 0;\n",
              "      width: 32px;\n",
              "    }\n",
              "\n",
              "    .colab-df-convert:hover {\n",
              "      background-color: #E2EBFA;\n",
              "      box-shadow: 0px 1px 2px rgba(60, 64, 67, 0.3), 0px 1px 3px 1px rgba(60, 64, 67, 0.15);\n",
              "      fill: #174EA6;\n",
              "    }\n",
              "\n",
              "    .colab-df-buttons div {\n",
              "      margin-bottom: 4px;\n",
              "    }\n",
              "\n",
              "    [theme=dark] .colab-df-convert {\n",
              "      background-color: #3B4455;\n",
              "      fill: #D2E3FC;\n",
              "    }\n",
              "\n",
              "    [theme=dark] .colab-df-convert:hover {\n",
              "      background-color: #434B5C;\n",
              "      box-shadow: 0px 1px 3px 1px rgba(0, 0, 0, 0.15);\n",
              "      filter: drop-shadow(0px 1px 2px rgba(0, 0, 0, 0.3));\n",
              "      fill: #FFFFFF;\n",
              "    }\n",
              "  </style>\n",
              "\n",
              "    <script>\n",
              "      const buttonEl =\n",
              "        document.querySelector('#df-601646fd-4a00-4bf1-8e02-e1edfe0a5ee5 button.colab-df-convert');\n",
              "      buttonEl.style.display =\n",
              "        google.colab.kernel.accessAllowed ? 'block' : 'none';\n",
              "\n",
              "      async function convertToInteractive(key) {\n",
              "        const element = document.querySelector('#df-601646fd-4a00-4bf1-8e02-e1edfe0a5ee5');\n",
              "        const dataTable =\n",
              "          await google.colab.kernel.invokeFunction('convertToInteractive',\n",
              "                                                    [key], {});\n",
              "        if (!dataTable) return;\n",
              "\n",
              "        const docLinkHtml = 'Like what you see? Visit the ' +\n",
              "          '<a target=\"_blank\" href=https://colab.research.google.com/notebooks/data_table.ipynb>data table notebook</a>'\n",
              "          + ' to learn more about interactive tables.';\n",
              "        element.innerHTML = '';\n",
              "        dataTable['output_type'] = 'display_data';\n",
              "        await google.colab.output.renderOutput(dataTable, element);\n",
              "        const docLink = document.createElement('div');\n",
              "        docLink.innerHTML = docLinkHtml;\n",
              "        element.appendChild(docLink);\n",
              "      }\n",
              "    </script>\n",
              "  </div>\n",
              "\n",
              "\n",
              "    </div>\n",
              "  </div>\n"
            ],
            "application/vnd.google.colaboratory.intrinsic+json": {
              "type": "dataframe",
              "variable_name": "df"
            }
          },
          "metadata": {},
          "execution_count": 43
        }
      ]
    },
    {
      "cell_type": "code",
      "source": [
        "print(\"52 week high is: $\" + str(df['summaryDetail.fiftyTwoWeekHigh.fmt'].values[0]).strip())\n",
        "print(\"52 week low is: $\" + str(df['summaryDetail.fiftyTwoWeekLow.fmt'].values[0]).strip())\n",
        "print(\"ROA is: \" + str(df['financialData.returnOnAssets.fmt'].values[0]).strip())\n"
      ],
      "metadata": {
        "id": "Xj-qHedXv5_k",
        "colab": {
          "base_uri": "https://localhost:8080/"
        },
        "outputId": "08e218ee-280a-44c7-ecfe-5ef7186cd5fa"
      },
      "execution_count": null,
      "outputs": [
        {
          "output_type": "stream",
          "name": "stdout",
          "text": [
            "52 week high is: $208.70\n",
            "52 week low is: $131.55\n",
            "ROA is: 16.74%\n"
          ]
        }
      ]
    },
    {
      "cell_type": "markdown",
      "source": [
        "#Task 2.2"
      ],
      "metadata": {
        "id": "7bWgwMIdWV6g"
      }
    },
    {
      "cell_type": "code",
      "source": [
        "url = \"https://yfapi.net/v1/finance/trending/US\"\n",
        "url2 = \"https://yfapi.net/v6/finance/quote\"\n",
        "url3 = \"https://yfapi.net/v11/finance/quoteSummary/\"\n",
        "\n",
        "headers = {\n",
        "    'x-api-key': apikey\n",
        "    }\n",
        "\n",
        "response = requests.request(\"GET\", url, headers=headers)\n",
        "data = response.json()[\"finance\"][\"result\"][0]\n",
        "\n",
        "for i in data['quotes']:\n",
        "\n",
        "\n",
        "  querystring = {\"symbols\":i['symbol']}\n",
        "\n",
        "  response = requests.request(\"GET\", url2, headers=headers, params=querystring)\n",
        "  print(response.json()['quoteResponse']['result'][0]['longName'])\n",
        "\n",
        "\n",
        "  querystring = {\n",
        "    \"symbol\":i['symbol'],\n",
        "    \"modules\": module\n",
        "  }\n",
        "  response2 = requests.request(\"GET\", url3+i['symbol'], headers=headers, params=querystring)\n",
        "  # print(response2.json())\n",
        "  data = response2.json()['quoteSummary']['result'][0]\n",
        "  df = pd.json_normalize(data)\n",
        "\n",
        "  print(\"52 week high is: $\" + str(df['summaryDetail.fiftyTwoWeekHigh.fmt'].values[0]).strip())\n",
        "  print(\"52 week low is: $\" + str(df['summaryDetail.fiftyTwoWeekLow.fmt'].values[0]).strip())\n",
        "  print(\"ROA is: \" + str(df['financialData.returnOnAssets.fmt'].values[0]).strip())\n",
        "\n"
      ],
      "metadata": {
        "colab": {
          "base_uri": "https://localhost:8080/",
          "height": 1000
        },
        "id": "p0KV3lbqWXYo",
        "outputId": "dc204716-c3c4-448b-8977-cf81a551c7a5"
      },
      "execution_count": null,
      "outputs": [
        {
          "output_type": "stream",
          "name": "stdout",
          "text": [
            "Super Micro Computer, Inc.\n",
            "{'quoteSummary': {'result': [{'summaryDetail': {'maxAge': 1, 'priceHint': {'raw': 2, 'fmt': '2', 'longFmt': '2'}, 'previousClose': {'raw': 51.61, 'fmt': '51.61'}, 'open': {'raw': 50.115, 'fmt': '50.12'}, 'dayLow': {'raw': 44.0, 'fmt': '44.00'}, 'dayHigh': {'raw': 50.67, 'fmt': '50.67'}, 'regularMarketPreviousClose': {'raw': 51.61, 'fmt': '51.61'}, 'regularMarketOpen': {'raw': 50.115, 'fmt': '50.12'}, 'regularMarketDayLow': {'raw': 44.0, 'fmt': '44.00'}, 'regularMarketDayHigh': {'raw': 50.67, 'fmt': '50.67'}, 'dividendRate': {}, 'dividendYield': {}, 'exDividendDate': {}, 'payoutRatio': {'raw': 0.0, 'fmt': '0.00%'}, 'fiveYearAvgDividendYield': {}, 'beta': {'raw': 1.297, 'fmt': '1.30'}, 'trailingPE': {'raw': 22.656717, 'fmt': '22.66'}, 'forwardPE': {'raw': 10.740567, 'fmt': '10.74'}, 'volume': {'raw': 117155931, 'fmt': '117.16M', 'longFmt': '117,155,931'}, 'regularMarketVolume': {'raw': 117155931, 'fmt': '117.16M', 'longFmt': '117,155,931'}, 'averageVolume': {'raw': 73553023, 'fmt': '73.55M', 'longFmt': '73,553,023'}, 'averageVolume10days': {'raw': 156441930, 'fmt': '156.44M', 'longFmt': '156,441,930'}, 'averageDailyVolume10Day': {'raw': 156441930, 'fmt': '156.44M', 'longFmt': '156,441,930'}, 'bid': {'raw': 45.0, 'fmt': '45.00'}, 'ask': {'raw': 45.57, 'fmt': '45.57'}, 'bidSize': {'raw': 300, 'fmt': '300', 'longFmt': '300'}, 'askSize': {'raw': 1600, 'fmt': '1.6k', 'longFmt': '1,600'}, 'marketCap': {'raw': 26666631168, 'fmt': '26.67B', 'longFmt': '26,666,631,168'}, 'yield': {}, 'ytdReturn': {}, 'qtdReturn': {}, 'totalAssets': {}, 'expireDate': {}, 'strikePrice': {}, 'openInterest': {}, 'fiftyTwoWeekLow': {'raw': 17.25, 'fmt': '17.25'}, 'fiftyTwoWeekHigh': {'raw': 122.9, 'fmt': '122.90'}, 'priceToSalesTrailing12Months': {'raw': 1.7845742, 'fmt': '1.78'}, 'fiftyDayAverage': {'raw': 35.8006, 'fmt': '35.80'}, 'twoHundredDayAverage': {'raw': 53.06221, 'fmt': '53.06'}, 'trailingAnnualDividendRate': {'raw': 0.0, 'fmt': '0.00'}, 'trailingAnnualDividendYield': {'raw': 0.0, 'fmt': '0.00%'}, 'navPrice': {}, 'currency': 'USD', 'fromCurrency': None, 'toCurrency': None, 'lastMarket': None, 'coinMarketCapLink': None, 'volume24Hr': {}, 'volumeAllCurrencies': {}, 'circulatingSupply': {}, 'algorithm': None, 'maxSupply': {}, 'startDate': {}, 'tradeable': False}, 'financialData': {'maxAge': 86400, 'currentPrice': {'raw': 45.54, 'fmt': '45.54'}, 'targetHighPrice': {'raw': 93.0, 'fmt': '93.00'}, 'targetLowPrice': {'raw': 15.0, 'fmt': '15.00'}, 'targetMeanPrice': {'raw': 47.88273, 'fmt': '47.88'}, 'targetMedianPrice': {'raw': 40.0, 'fmt': '40.00'}, 'recommendationMean': {'raw': 2.81818, 'fmt': '2.82'}, 'recommendationKey': 'hold', 'numberOfAnalystOpinions': {'raw': 11, 'fmt': '11', 'longFmt': '11'}, 'totalCash': {'raw': 1669766016, 'fmt': '1.67B', 'longFmt': '1,669,766,016'}, 'totalCashPerShare': {'raw': 2.845, 'fmt': '2.85'}, 'ebitda': {'raw': 1304590720, 'fmt': '1.3B', 'longFmt': '1,304,590,720'}, 'totalDebt': {'raw': 2174145024, 'fmt': '2.17B', 'longFmt': '2,174,145,024'}, 'quickRatio': {'raw': 1.805, 'fmt': '1.80'}, 'currentRatio': {'raw': 3.767, 'fmt': '3.77'}, 'totalRevenue': {'raw': 14942854144, 'fmt': '14.94B', 'longFmt': '14,942,854,144'}, 'debtToEquity': {'raw': 39.749, 'fmt': '39.75%'}, 'revenuePerShare': {'raw': 26.881, 'fmt': '26.88'}, 'returnOnAssets': {'raw': 0.11618, 'fmt': '11.62%'}, 'returnOnEquity': {'raw': 0.32469, 'fmt': '32.47%'}, 'grossProfits': {'raw': 2111729024, 'fmt': '2.11B', 'longFmt': '2,111,729,024'}, 'freeCashflow': {'raw': -2834003456, 'fmt': '-2.83B', 'longFmt': '-2,834,003,456'}, 'operatingCashflow': {'raw': -2479437056, 'fmt': '-2.48B', 'longFmt': '-2,479,437,056'}, 'earningsGrowth': {'raw': 0.61, 'fmt': '61.00%'}, 'revenueGrowth': {'raw': 1.43, 'fmt': '143.00%'}, 'grossMargins': {'raw': 0.14132, 'fmt': '14.13%'}, 'ebitdaMargins': {'raw': 0.08731, 'fmt': '8.73%'}, 'operatingMargins': {'raw': 0.06469, 'fmt': '6.47%'}, 'profitMargins': {'raw': 0.08085, 'fmt': '8.08%'}, 'financialCurrency': 'USD'}}], 'error': None}}\n",
            "52 week high is: $122.90\n",
            "52 week low is: $17.25\n",
            "ROA is: 11.62%\n",
            "Tesla, Inc.\n",
            "{'quoteSummary': {'result': [{'summaryDetail': {'maxAge': 1, 'priceHint': {'raw': 2, 'fmt': '2', 'longFmt': '2'}, 'previousClose': {'raw': 330.53, 'fmt': '330.53'}, 'open': {'raw': 327.13, 'fmt': '327.13'}, 'dayLow': {'raw': 297.2512, 'fmt': '297.25'}, 'dayHigh': {'raw': 327.45, 'fmt': '327.45'}, 'regularMarketPreviousClose': {'raw': 330.53, 'fmt': '330.53'}, 'regularMarketOpen': {'raw': 327.13, 'fmt': '327.13'}, 'regularMarketDayLow': {'raw': 297.2512, 'fmt': '297.25'}, 'regularMarketDayHigh': {'raw': 327.45, 'fmt': '327.45'}, 'dividendRate': {}, 'dividendYield': {}, 'exDividendDate': {}, 'payoutRatio': {'raw': 0.0, 'fmt': '0.00%'}, 'fiveYearAvgDividendYield': {}, 'beta': {'raw': 2.336, 'fmt': '2.34'}, 'trailingPE': {'raw': 147.70732, 'fmt': '147.71'}, 'forwardPE': {'raw': 93.45679, 'fmt': '93.46'}, 'volume': {'raw': 132891453, 'fmt': '132.89M', 'longFmt': '132,891,453'}, 'regularMarketVolume': {'raw': 132891453, 'fmt': '132.89M', 'longFmt': '132,891,453'}, 'averageVolume': {'raw': 79678042, 'fmt': '79.68M', 'longFmt': '79,678,042'}, 'averageVolume10days': {'raw': 77337810, 'fmt': '77.34M', 'longFmt': '77,337,810'}, 'averageDailyVolume10Day': {'raw': 77337810, 'fmt': '77.34M', 'longFmt': '77,337,810'}, 'bid': {'raw': 302.7, 'fmt': '302.70'}, 'ask': {'raw': 302.99, 'fmt': '302.99'}, 'bidSize': {'raw': 100, 'fmt': '100', 'longFmt': '100'}, 'askSize': {'raw': 100, 'fmt': '100', 'longFmt': '100'}, 'marketCap': {'raw': 973962215424, 'fmt': '973.96B', 'longFmt': '973,962,215,424'}, 'yield': {}, 'ytdReturn': {}, 'qtdReturn': {}, 'totalAssets': {}, 'expireDate': {}, 'strikePrice': {}, 'openInterest': {}, 'fiftyTwoWeekLow': {'raw': 138.8, 'fmt': '138.80'}, 'fiftyTwoWeekHigh': {'raw': 488.54, 'fmt': '488.54'}, 'priceToSalesTrailing12Months': {'raw': 9.969928, 'fmt': '9.97'}, 'fiftyDayAverage': {'raw': 399.511, 'fmt': '399.51'}, 'twoHundredDayAverage': {'raw': 276.38635, 'fmt': '276.39'}, 'trailingAnnualDividendRate': {'raw': 0.0, 'fmt': '0.00'}, 'trailingAnnualDividendYield': {'raw': 0.0, 'fmt': '0.00%'}, 'navPrice': {}, 'currency': 'USD', 'fromCurrency': None, 'toCurrency': None, 'lastMarket': None, 'coinMarketCapLink': None, 'volume24Hr': {}, 'volumeAllCurrencies': {}, 'circulatingSupply': {}, 'algorithm': None, 'maxSupply': {}, 'startDate': {}, 'tradeable': False}, 'financialData': {'maxAge': 86400, 'currentPrice': {'raw': 302.8, 'fmt': '302.80'}, 'targetHighPrice': {'raw': 550.0, 'fmt': '550.00'}, 'targetLowPrice': {'raw': 135.0, 'fmt': '135.00'}, 'targetMeanPrice': {'raw': 345.5588, 'fmt': '345.56'}, 'targetMedianPrice': {'raw': 384.835, 'fmt': '384.83'}, 'recommendationMean': {'raw': 2.70833, 'fmt': '2.71'}, 'recommendationKey': 'hold', 'numberOfAnalystOpinions': {'raw': 42, 'fmt': '42', 'longFmt': '42'}, 'totalCash': {'raw': 36563001344, 'fmt': '36.56B', 'longFmt': '36,563,001,344'}, 'totalCashPerShare': {'raw': 11.367, 'fmt': '11.37'}, 'ebitda': {'raw': 13027000320, 'fmt': '13.03B', 'longFmt': '13,027,000,320'}, 'totalDebt': {'raw': 13623000064, 'fmt': '13.62B', 'longFmt': '13,623,000,064'}, 'quickRatio': {'raw': 1.427, 'fmt': '1.43'}, 'currentRatio': {'raw': 2.025, 'fmt': '2.03'}, 'totalRevenue': {'raw': 97690001408, 'fmt': '97.69B', 'longFmt': '97,690,001,408'}, 'debtToEquity': {'raw': 18.489, 'fmt': '18.49%'}, 'revenuePerShare': {'raw': 30.557, 'fmt': '30.56'}, 'returnOnAssets': {'raw': 0.04186, 'fmt': '4.19%'}, 'returnOnEquity': {'raw': 0.1042, 'fmt': '10.42%'}, 'grossProfits': {'raw': 17450000384, 'fmt': '17.45B', 'longFmt': '17,450,000,384'}, 'freeCashflow': {'raw': -826875008, 'fmt': '-826.88M', 'longFmt': '-826,875,008'}, 'operatingCashflow': {'raw': 14922999808, 'fmt': '14.92B', 'longFmt': '14,922,999,808'}, 'earningsGrowth': {'raw': -0.709, 'fmt': '-70.90%'}, 'revenueGrowth': {'raw': 0.021, 'fmt': '2.10%'}, 'grossMargins': {'raw': 0.17863001, 'fmt': '17.86%'}, 'ebitdaMargins': {'raw': 0.13335, 'fmt': '13.33%'}, 'operatingMargins': {'raw': 0.06158, 'fmt': '6.16%'}, 'profitMargins': {'raw': 0.07259, 'fmt': '7.26%'}, 'financialCurrency': 'USD'}}], 'error': None}}\n",
            "52 week high is: $488.54\n",
            "52 week low is: $138.80\n",
            "ROA is: 4.19%\n",
            "CAVA Group, Inc.\n",
            "{'quoteSummary': {'result': [{'summaryDetail': {'maxAge': 1, 'priceHint': {'raw': 2, 'fmt': '2', 'longFmt': '2'}, 'previousClose': {'raw': 104.22, 'fmt': '104.22'}, 'open': {'raw': 102.645, 'fmt': '102.64'}, 'dayLow': {'raw': 97.7332, 'fmt': '97.73'}, 'dayHigh': {'raw': 102.97, 'fmt': '102.97'}, 'regularMarketPreviousClose': {'raw': 104.22, 'fmt': '104.22'}, 'regularMarketOpen': {'raw': 102.645, 'fmt': '102.64'}, 'regularMarketDayLow': {'raw': 97.7332, 'fmt': '97.73'}, 'regularMarketDayHigh': {'raw': 102.97, 'fmt': '102.97'}, 'dividendRate': {}, 'dividendYield': {}, 'exDividendDate': {}, 'payoutRatio': {'raw': 0.0, 'fmt': '0.00%'}, 'fiveYearAvgDividendYield': {}, 'beta': {}, 'trailingPE': {'raw': 242.19513, 'fmt': '242.20'}, 'forwardPE': {'raw': 198.6, 'fmt': '198.60'}, 'volume': {'raw': 6248832, 'fmt': '6.25M', 'longFmt': '6,248,832'}, 'regularMarketVolume': {'raw': 6248832, 'fmt': '6.25M', 'longFmt': '6,248,832'}, 'averageVolume': {'raw': 2346605, 'fmt': '2.35M', 'longFmt': '2,346,605'}, 'averageVolume10days': {'raw': 2694750, 'fmt': '2.69M', 'longFmt': '2,694,750'}, 'averageDailyVolume10Day': {'raw': 2694750, 'fmt': '2.69M', 'longFmt': '2,694,750'}, 'bid': {'raw': 99.51, 'fmt': '99.51'}, 'ask': {'raw': 100.33, 'fmt': '100.33'}, 'bidSize': {'raw': 1000, 'fmt': '1k', 'longFmt': '1,000'}, 'askSize': {'raw': 800, 'fmt': '800', 'longFmt': '800'}, 'marketCap': {'raw': 11377794048, 'fmt': '11.38B', 'longFmt': '11,377,794,048'}, 'yield': {}, 'ytdReturn': {}, 'qtdReturn': {}, 'totalAssets': {}, 'expireDate': {}, 'strikePrice': {}, 'openInterest': {}, 'fiftyTwoWeekLow': {'raw': 52.81, 'fmt': '52.81'}, 'fiftyTwoWeekHigh': {'raw': 172.43, 'fmt': '172.43'}, 'priceToSalesTrailing12Months': {'raw': 12.45533, 'fmt': '12.46'}, 'fiftyDayAverage': {'raw': 123.3318, 'fmt': '123.33'}, 'twoHundredDayAverage': {'raw': 112.88305, 'fmt': '112.88'}, 'trailingAnnualDividendRate': {'raw': 0.0, 'fmt': '0.00'}, 'trailingAnnualDividendYield': {'raw': 0.0, 'fmt': '0.00%'}, 'navPrice': {}, 'currency': 'USD', 'fromCurrency': None, 'toCurrency': None, 'lastMarket': None, 'coinMarketCapLink': None, 'volume24Hr': {}, 'volumeAllCurrencies': {}, 'circulatingSupply': {}, 'algorithm': None, 'maxSupply': {}, 'startDate': {}, 'tradeable': False}, 'financialData': {'maxAge': 86400, 'currentPrice': {'raw': 99.3, 'fmt': '99.30'}, 'targetHighPrice': {'raw': 195.0, 'fmt': '195.00'}, 'targetLowPrice': {'raw': 110.0, 'fmt': '110.00'}, 'targetMeanPrice': {'raw': 147.92308, 'fmt': '147.92'}, 'targetMedianPrice': {'raw': 145.0, 'fmt': '145.00'}, 'recommendationMean': {'raw': 2.125, 'fmt': '2.12'}, 'recommendationKey': 'buy', 'numberOfAnalystOpinions': {'raw': 13, 'fmt': '13', 'longFmt': '13'}, 'totalCash': {'raw': 367160000, 'fmt': '367.16M', 'longFmt': '367,160,000'}, 'totalCashPerShare': {'raw': 3.204, 'fmt': '3.2'}, 'ebitda': {'raw': 101203000, 'fmt': '101.2M', 'longFmt': '101,203,000'}, 'totalDebt': {'raw': 369792992, 'fmt': '369.79M', 'longFmt': '369,792,992'}, 'quickRatio': {'raw': 2.829, 'fmt': '2.83'}, 'currentRatio': {'raw': 2.925, 'fmt': '2.92'}, 'totalRevenue': {'raw': 913488000, 'fmt': '913.49M', 'longFmt': '913,488,000'}, 'debtToEquity': {'raw': 59.989, 'fmt': '59.99%'}, 'revenuePerShare': {'raw': 8.034, 'fmt': '8.03'}, 'returnOnAssets': {'raw': 0.02633, 'fmt': '2.63%'}, 'returnOnEquity': {'raw': 0.09093001, 'fmt': '9.09%'}, 'grossProfits': {'raw': 343375008, 'fmt': '343.38M', 'longFmt': '343,375,008'}, 'freeCashflow': {'raw': 2710750, 'fmt': '2.71M', 'longFmt': '2,710,750'}, 'operatingCashflow': {'raw': 155187008, 'fmt': '155.19M', 'longFmt': '155,187,008'}, 'earningsGrowth': {'raw': 1.5, 'fmt': '150.00%'}, 'revenueGrowth': {'raw': 0.389, 'fmt': '38.90%'}, 'grossMargins': {'raw': 0.37589002, 'fmt': '37.59%'}, 'ebitdaMargins': {'raw': 0.11079001, 'fmt': '11.08%'}, 'operatingMargins': {'raw': 0.06428, 'fmt': '6.43%'}, 'profitMargins': {'raw': 0.05884, 'fmt': '5.88%'}, 'financialCurrency': 'USD'}}], 'error': None}}\n",
            "52 week high is: $172.43\n",
            "52 week low is: $52.81\n",
            "ROA is: 2.63%\n",
            "Workday, Inc.\n",
            "{'quoteSummary': {'result': [{'summaryDetail': {'maxAge': 1, 'priceHint': {'raw': 2, 'fmt': '2', 'longFmt': '2'}, 'previousClose': {'raw': 261.81, 'fmt': '261.81'}, 'open': {'raw': 259.055, 'fmt': '259.05'}, 'dayLow': {'raw': 252.65, 'fmt': '252.65'}, 'dayHigh': {'raw': 259.55, 'fmt': '259.55'}, 'regularMarketPreviousClose': {'raw': 261.81, 'fmt': '261.81'}, 'regularMarketOpen': {'raw': 259.055, 'fmt': '259.05'}, 'regularMarketDayLow': {'raw': 252.65, 'fmt': '252.65'}, 'regularMarketDayHigh': {'raw': 259.55, 'fmt': '259.55'}, 'dividendRate': {}, 'dividendYield': {}, 'exDividendDate': {}, 'payoutRatio': {'raw': 0.0, 'fmt': '0.00%'}, 'fiveYearAvgDividendYield': {}, 'beta': {'raw': 1.347, 'fmt': '1.35'}, 'trailingPE': {'raw': 41.839344, 'fmt': '41.84'}, 'forwardPE': {'raw': 30.749397, 'fmt': '30.75'}, 'volume': {'raw': 4462141, 'fmt': '4.46M', 'longFmt': '4,462,141'}, 'regularMarketVolume': {'raw': 4462141, 'fmt': '4.46M', 'longFmt': '4,462,141'}, 'averageVolume': {'raw': 3581974, 'fmt': '3.58M', 'longFmt': '3,581,974'}, 'averageVolume10days': {'raw': 2258600, 'fmt': '2.26M', 'longFmt': '2,258,600'}, 'averageDailyVolume10Day': {'raw': 2258600, 'fmt': '2.26M', 'longFmt': '2,258,600'}, 'bid': {'raw': 254.77, 'fmt': '254.77'}, 'ask': {'raw': 255.62, 'fmt': '255.62'}, 'bidSize': {'raw': 100, 'fmt': '100', 'longFmt': '100'}, 'askSize': {'raw': 100, 'fmt': '100', 'longFmt': '100'}, 'marketCap': {'raw': 67888521216, 'fmt': '67.89B', 'longFmt': '67,888,521,216'}, 'yield': {}, 'ytdReturn': {}, 'qtdReturn': {}, 'totalAssets': {}, 'expireDate': {}, 'strikePrice': {}, 'openInterest': {}, 'fiftyTwoWeekLow': {'raw': 199.81, 'fmt': '199.81'}, 'fiftyTwoWeekHigh': {'raw': 304.79, 'fmt': '304.79'}, 'priceToSalesTrailing12Months': {'raw': 8.322731, 'fmt': '8.32'}, 'fiftyDayAverage': {'raw': 262.0352, 'fmt': '262.04'}, 'twoHundredDayAverage': {'raw': 244.75044, 'fmt': '244.75'}, 'trailingAnnualDividendRate': {'raw': 0.0, 'fmt': '0.00'}, 'trailingAnnualDividendYield': {'raw': 0.0, 'fmt': '0.00%'}, 'navPrice': {}, 'currency': 'USD', 'fromCurrency': None, 'toCurrency': None, 'lastMarket': None, 'coinMarketCapLink': None, 'volume24Hr': {}, 'volumeAllCurrencies': {}, 'circulatingSupply': {}, 'algorithm': None, 'maxSupply': {}, 'startDate': {}, 'tradeable': False}, 'financialData': {'maxAge': 86400, 'currentPrice': {'raw': 255.22, 'fmt': '255.22'}, 'targetHighPrice': {'raw': 350.0, 'fmt': '350.00'}, 'targetLowPrice': {'raw': 250.0, 'fmt': '250.00'}, 'targetMeanPrice': {'raw': 294.82028, 'fmt': '294.82'}, 'targetMedianPrice': {'raw': 300.0, 'fmt': '300.00'}, 'recommendationMean': {'raw': 1.87805, 'fmt': '1.88'}, 'recommendationKey': 'buy', 'numberOfAnalystOpinions': {'raw': 37, 'fmt': '37', 'longFmt': '37'}, 'totalCash': {'raw': 7157000192, 'fmt': '7.16B', 'longFmt': '7,157,000,192'}, 'totalCashPerShare': {'raw': 26.906, 'fmt': '26.91'}, 'ebitda': {'raw': 726000000, 'fmt': '726M', 'longFmt': '726,000,000'}, 'totalDebt': {'raw': 3363000064, 'fmt': '3.36B', 'longFmt': '3,363,000,064'}, 'quickRatio': {'raw': 1.947, 'fmt': '1.95'}, 'currentRatio': {'raw': 2.053, 'fmt': '2.05'}, 'totalRevenue': {'raw': 8157000192, 'fmt': '8.16B', 'longFmt': '8,157,000,192'}, 'debtToEquity': {'raw': 38.996, 'fmt': '39.00%'}, 'revenuePerShare': {'raw': 30.83, 'fmt': '30.83'}, 'returnOnAssets': {'raw': 0.01726, 'fmt': '1.73%'}, 'returnOnEquity': {'raw': 0.21247, 'fmt': '21.25%'}, 'grossProfits': {'raw': 6167000064, 'fmt': '6.17B', 'longFmt': '6,167,000,064'}, 'freeCashflow': {'raw': 2138738944, 'fmt': '2.14B', 'longFmt': '2,138,738,944'}, 'operatingCashflow': {'raw': 2344999936, 'fmt': '2.34B', 'longFmt': '2,344,999,936'}, 'earningsGrowth': {'raw': 0.674, 'fmt': '67.40%'}, 'revenueGrowth': {'raw': 0.158, 'fmt': '15.80%'}, 'grossMargins': {'raw': 0.75604, 'fmt': '75.60%'}, 'ebitdaMargins': {'raw': 0.088999994, 'fmt': '8.90%'}, 'operatingMargins': {'raw': 0.07639, 'fmt': '7.64%'}, 'profitMargins': {'raw': 0.19860001, 'fmt': '19.86%'}, 'financialCurrency': 'USD'}}], 'error': None}}\n",
            "52 week high is: $304.79\n",
            "52 week low is: $199.81\n",
            "ROA is: 1.73%\n",
            "First Solar, Inc.\n",
            "{'quoteSummary': {'result': [{'summaryDetail': {'maxAge': 1, 'priceHint': {'raw': 2, 'fmt': '2', 'longFmt': '2'}, 'previousClose': {'raw': 152.91, 'fmt': '152.91'}, 'open': {'raw': 150.93, 'fmt': '150.93'}, 'dayLow': {'raw': 146.19, 'fmt': '146.19'}, 'dayHigh': {'raw': 152.6699, 'fmt': '152.67'}, 'regularMarketPreviousClose': {'raw': 152.91, 'fmt': '152.91'}, 'regularMarketOpen': {'raw': 150.93, 'fmt': '150.93'}, 'regularMarketDayLow': {'raw': 146.19, 'fmt': '146.19'}, 'regularMarketDayHigh': {'raw': 152.6699, 'fmt': '152.67'}, 'dividendRate': {}, 'dividendYield': {}, 'exDividendDate': {}, 'payoutRatio': {'raw': 0.0, 'fmt': '0.00%'}, 'fiveYearAvgDividendYield': {}, 'beta': {'raw': 1.465, 'fmt': '1.47'}, 'trailingPE': {'raw': 12.70112, 'fmt': '12.70'}, 'forwardPE': {'raw': 7.0690317, 'fmt': '7.07'}, 'volume': {'raw': 5009408, 'fmt': '5.01M', 'longFmt': '5,009,408'}, 'regularMarketVolume': {'raw': 5009408, 'fmt': '5.01M', 'longFmt': '5,009,408'}, 'averageVolume': {'raw': 2132994, 'fmt': '2.13M', 'longFmt': '2,132,994'}, 'averageVolume10days': {'raw': 2328740, 'fmt': '2.33M', 'longFmt': '2,328,740'}, 'averageDailyVolume10Day': {'raw': 2328740, 'fmt': '2.33M', 'longFmt': '2,328,740'}, 'bid': {'raw': 140.12, 'fmt': '140.12'}, 'ask': {'raw': 156.51, 'fmt': '156.51'}, 'bidSize': {'raw': 100, 'fmt': '100', 'longFmt': '100'}, 'askSize': {'raw': 100, 'fmt': '100', 'longFmt': '100'}, 'marketCap': {'raw': 15786773504, 'fmt': '15.79B', 'longFmt': '15,786,773,504'}, 'yield': {}, 'ytdReturn': {}, 'qtdReturn': {}, 'totalAssets': {}, 'expireDate': {}, 'strikePrice': {}, 'openInterest': {}, 'fiftyTwoWeekLow': {'raw': 144.28, 'fmt': '144.28'}, 'fiftyTwoWeekHigh': {'raw': 306.77, 'fmt': '306.77'}, 'priceToSalesTrailing12Months': {'raw': 4.099597, 'fmt': '4.10'}, 'fiftyDayAverage': {'raw': 177.0468, 'fmt': '177.05'}, 'twoHundredDayAverage': {'raw': 211.4495, 'fmt': '211.45'}, 'trailingAnnualDividendRate': {'raw': 0.0, 'fmt': '0.00'}, 'trailingAnnualDividendYield': {'raw': 0.0, 'fmt': '0.00%'}, 'navPrice': {}, 'currency': 'USD', 'fromCurrency': None, 'toCurrency': None, 'lastMarket': None, 'coinMarketCapLink': None, 'volume24Hr': {}, 'volumeAllCurrencies': {}, 'circulatingSupply': {}, 'algorithm': None, 'maxSupply': {}, 'startDate': {}, 'tradeable': False}, 'financialData': {'maxAge': 86400, 'currentPrice': {'raw': 147.46, 'fmt': '147.46'}, 'targetHighPrice': {'raw': 360.0, 'fmt': '360.00'}, 'targetLowPrice': {'raw': 190.0, 'fmt': '190.00'}, 'targetMeanPrice': {'raw': 266.76285, 'fmt': '266.76'}, 'targetMedianPrice': {'raw': 273.0, 'fmt': '273.00'}, 'recommendationMean': {'raw': 1.55, 'fmt': '1.55'}, 'recommendationKey': 'buy', 'numberOfAnalystOpinions': {'raw': 35, 'fmt': '35', 'longFmt': '35'}, 'totalCash': {'raw': 1269821056, 'fmt': '1.27B', 'longFmt': '1,269,821,056'}, 'totalCashPerShare': {'raw': 11.861, 'fmt': '11.86'}, 'ebitda': {'raw': 1716966016, 'fmt': '1.72B', 'longFmt': '1,716,966,016'}, 'totalDebt': {'raw': 694142976, 'fmt': '694.14M', 'longFmt': '694,142,976'}, 'quickRatio': {'raw': 1.208, 'fmt': '1.21'}, 'currentRatio': {'raw': 2.142, 'fmt': '2.14'}, 'totalRevenue': {'raw': 3850810880, 'fmt': '3.85B', 'longFmt': '3,850,810,880'}, 'debtToEquity': {'raw': 9.141, 'fmt': '9.14%'}, 'revenuePerShare': {'raw': 36.002, 'fmt': '36.00'}, 'returnOnAssets': {'raw': 0.078990005, 'fmt': '7.90%'}, 'returnOnEquity': {'raw': 0.17964001, 'fmt': '17.96%'}, 'grossProfits': {'raw': 1792236032, 'fmt': '1.79B', 'longFmt': '1,792,236,032'}, 'freeCashflow': {'raw': -469678368, 'fmt': '-469.68M', 'longFmt': '-469,678,368'}, 'operatingCashflow': {'raw': 968112000, 'fmt': '968.11M', 'longFmt': '968,112,000'}, 'earningsGrowth': {'raw': 0.164, 'fmt': '16.40%'}, 'revenueGrowth': {'raw': 0.108, 'fmt': '10.80%'}, 'grossMargins': {'raw': 0.46542, 'fmt': '46.54%'}, 'ebitdaMargins': {'raw': 0.44587, 'fmt': '44.59%'}, 'operatingMargins': {'raw': 0.36275002, 'fmt': '36.28%'}, 'profitMargins': {'raw': 0.32412997, 'fmt': '32.41%'}, 'financialCurrency': 'USD'}}], 'error': None}}\n",
            "52 week high is: $306.77\n",
            "52 week low is: $144.28\n",
            "ROA is: 7.90%\n",
            "Lucid Group, Inc.\n",
            "{'quoteSummary': {'result': [{'summaryDetail': {'maxAge': 1, 'priceHint': {'raw': 4, 'fmt': '4', 'longFmt': '4'}, 'previousClose': {'raw': 2.78, 'fmt': '2.7800'}, 'open': {'raw': 2.86, 'fmt': '2.8600'}, 'dayLow': {'raw': 2.6, 'fmt': '2.6000'}, 'dayHigh': {'raw': 2.9, 'fmt': '2.9000'}, 'regularMarketPreviousClose': {'raw': 2.78, 'fmt': '2.7800'}, 'regularMarketOpen': {'raw': 2.86, 'fmt': '2.8600'}, 'regularMarketDayLow': {'raw': 2.6, 'fmt': '2.6000'}, 'regularMarketDayHigh': {'raw': 2.9, 'fmt': '2.9000'}, 'dividendRate': {}, 'dividendYield': {}, 'exDividendDate': {}, 'payoutRatio': {'raw': 0.0, 'fmt': '0.00%'}, 'fiveYearAvgDividendYield': {}, 'beta': {'raw': 0.939, 'fmt': '0.94'}, 'forwardPE': {'raw': -2.965909, 'fmt': '-2.97'}, 'volume': {'raw': 106551523, 'fmt': '106.55M', 'longFmt': '106,551,523'}, 'regularMarketVolume': {'raw': 106551523, 'fmt': '106.55M', 'longFmt': '106,551,523'}, 'averageVolume': {'raw': 89156869, 'fmt': '89.16M', 'longFmt': '89,156,869'}, 'averageVolume10days': {'raw': 85393770, 'fmt': '85.39M', 'longFmt': '85,393,770'}, 'averageDailyVolume10Day': {'raw': 85393770, 'fmt': '85.39M', 'longFmt': '85,393,770'}, 'bid': {'raw': 2.59, 'fmt': '2.5900'}, 'ask': {'raw': 2.61, 'fmt': '2.6100'}, 'bidSize': {'raw': 31000, 'fmt': '31k', 'longFmt': '31,000'}, 'askSize': {'raw': 100, 'fmt': '100', 'longFmt': '100'}, 'marketCap': {'raw': 7860510720, 'fmt': '7.86B', 'longFmt': '7,860,510,720'}, 'yield': {}, 'ytdReturn': {}, 'qtdReturn': {}, 'totalAssets': {}, 'expireDate': {}, 'strikePrice': {}, 'openInterest': {}, 'fiftyTwoWeekLow': {'raw': 1.93, 'fmt': '1.9300'}, 'fiftyTwoWeekHigh': {'raw': 4.43, 'fmt': '4.4300'}, 'priceToSalesTrailing12Months': {'raw': 10.760305, 'fmt': '10.76'}, 'fiftyDayAverage': {'raw': 2.9302, 'fmt': '2.9302'}, 'twoHundredDayAverage': {'raw': 2.97175, 'fmt': '2.9718'}, 'trailingAnnualDividendRate': {'raw': 0.0, 'fmt': '0.00'}, 'trailingAnnualDividendYield': {'raw': 0.0, 'fmt': '0.00%'}, 'navPrice': {}, 'currency': 'USD', 'fromCurrency': None, 'toCurrency': None, 'lastMarket': None, 'coinMarketCapLink': None, 'volume24Hr': {}, 'volumeAllCurrencies': {}, 'circulatingSupply': {}, 'algorithm': None, 'maxSupply': {}, 'startDate': {}, 'tradeable': False}, 'financialData': {'maxAge': 86400, 'currentPrice': {'raw': 2.61, 'fmt': '2.61'}, 'targetHighPrice': {'raw': 5.0, 'fmt': '5.00'}, 'targetLowPrice': {'raw': 1.13, 'fmt': '1.13'}, 'targetMeanPrice': {'raw': 2.75455, 'fmt': '2.75'}, 'targetMedianPrice': {'raw': 3.0, 'fmt': '3.00'}, 'recommendationMean': {'raw': 3.23077, 'fmt': '3.23'}, 'recommendationKey': 'hold', 'numberOfAnalystOpinions': {'raw': 11, 'fmt': '11', 'longFmt': '11'}, 'totalCash': {'raw': 3471920896, 'fmt': '3.47B', 'longFmt': '3,471,920,896'}, 'totalCashPerShare': {'raw': 1.153, 'fmt': '1.15'}, 'ebitda': {'raw': -2732441088, 'fmt': '-2.73B', 'longFmt': '-2,732,441,088'}, 'totalDebt': {'raw': 2404252928, 'fmt': '2.4B', 'longFmt': '2,404,252,928'}, 'quickRatio': {'raw': 3.125, 'fmt': '3.12'}, 'currentRatio': {'raw': 3.706, 'fmt': '3.71'}, 'totalRevenue': {'raw': 730510016, 'fmt': '730.51M', 'longFmt': '730,510,016'}, 'debtToEquity': {'raw': 64.218, 'fmt': '64.22%'}, 'revenuePerShare': {'raw': 0.317, 'fmt': '0.32'}, 'returnOnAssets': {'raw': -0.21546, 'fmt': '-21.55%'}, 'returnOnEquity': {'raw': -0.6493, 'fmt': '-64.93%'}, 'grossProfits': {'raw': -967200000, 'fmt': '-967.2M', 'longFmt': '-967,200,000'}, 'freeCashflow': {'raw': -1916945792, 'fmt': '-1.92B', 'longFmt': '-1,916,945,792'}, 'operatingCashflow': {'raw': -1961075968, 'fmt': '-1.96B', 'longFmt': '-1,961,075,968'}, 'earningsGrowth': {}, 'revenueGrowth': {'raw': 0.452, 'fmt': '45.20%'}, 'grossMargins': {'raw': -1.32401, 'fmt': '-132.40%'}, 'ebitdaMargins': {'raw': 0.0, 'fmt': '0.00%'}, 'operatingMargins': {'raw': -3.85158, 'fmt': '-385.16%'}, 'profitMargins': {'raw': 0.0, 'fmt': '0.00%'}, 'financialCurrency': 'USD'}}], 'error': None}}\n",
            "52 week high is: $4.4300\n",
            "52 week low is: $1.9300\n",
            "ROA is: -21.55%\n",
            "Lemonade, Inc.\n",
            "{'quoteSummary': {'result': [{'summaryDetail': {'maxAge': 1, 'priceHint': {'raw': 2, 'fmt': '2', 'longFmt': '2'}, 'previousClose': {'raw': 34.7, 'fmt': '34.70'}, 'open': {'raw': 34.49, 'fmt': '34.49'}, 'dayLow': {'raw': 31.38, 'fmt': '31.38'}, 'dayHigh': {'raw': 34.68, 'fmt': '34.68'}, 'regularMarketPreviousClose': {'raw': 34.7, 'fmt': '34.70'}, 'regularMarketOpen': {'raw': 34.49, 'fmt': '34.49'}, 'regularMarketDayLow': {'raw': 31.38, 'fmt': '31.38'}, 'regularMarketDayHigh': {'raw': 34.68, 'fmt': '34.68'}, 'dividendRate': {}, 'dividendYield': {}, 'exDividendDate': {}, 'payoutRatio': {'raw': 0.0, 'fmt': '0.00%'}, 'fiveYearAvgDividendYield': {}, 'beta': {'raw': 2.152, 'fmt': '2.15'}, 'forwardPE': {'raw': -12.74502, 'fmt': '-12.75'}, 'volume': {'raw': 4725053, 'fmt': '4.73M', 'longFmt': '4,725,053'}, 'regularMarketVolume': {'raw': 4725053, 'fmt': '4.73M', 'longFmt': '4,725,053'}, 'averageVolume': {'raw': 2055967, 'fmt': '2.06M', 'longFmt': '2,055,967'}, 'averageVolume10days': {'raw': 2426310, 'fmt': '2.43M', 'longFmt': '2,426,310'}, 'averageDailyVolume10Day': {'raw': 2426310, 'fmt': '2.43M', 'longFmt': '2,426,310'}, 'bid': {'raw': 31.79, 'fmt': '31.79'}, 'ask': {'raw': 32.15, 'fmt': '32.15'}, 'bidSize': {'raw': 800, 'fmt': '800', 'longFmt': '800'}, 'askSize': {'raw': 1000, 'fmt': '1k', 'longFmt': '1,000'}, 'marketCap': {'raw': 2284229888, 'fmt': '2.28B', 'longFmt': '2,284,229,888'}, 'yield': {}, 'ytdReturn': {}, 'qtdReturn': {}, 'totalAssets': {}, 'expireDate': {}, 'strikePrice': {}, 'openInterest': {}, 'fiftyTwoWeekLow': {'raw': 14.03, 'fmt': '14.03'}, 'fiftyTwoWeekHigh': {'raw': 53.85, 'fmt': '53.85'}, 'priceToSalesTrailing12Months': {'raw': 4.63803, 'fmt': '4.64'}, 'fiftyDayAverage': {'raw': 36.2184, 'fmt': '36.22'}, 'twoHundredDayAverage': {'raw': 25.1482, 'fmt': '25.15'}, 'trailingAnnualDividendRate': {'raw': 0.0, 'fmt': '0.00'}, 'trailingAnnualDividendYield': {'raw': 0.0, 'fmt': '0.00%'}, 'navPrice': {}, 'currency': 'USD', 'fromCurrency': None, 'toCurrency': None, 'lastMarket': None, 'coinMarketCapLink': None, 'volume24Hr': {}, 'volumeAllCurrencies': {}, 'circulatingSupply': {}, 'algorithm': None, 'maxSupply': {}, 'startDate': {}, 'tradeable': False}, 'financialData': {'maxAge': 86400, 'currentPrice': {'raw': 31.99, 'fmt': '31.99'}, 'targetHighPrice': {'raw': 60.0, 'fmt': '60.00'}, 'targetLowPrice': {'raw': 15.0, 'fmt': '15.00'}, 'targetMeanPrice': {'raw': 33.0, 'fmt': '33.00'}, 'targetMedianPrice': {'raw': 29.5, 'fmt': '29.50'}, 'recommendationMean': {'raw': 3.33333, 'fmt': '3.33'}, 'recommendationKey': 'hold', 'numberOfAnalystOpinions': {'raw': 6, 'fmt': '6', 'longFmt': '6'}, 'totalCash': {'raw': 360900000, 'fmt': '360.9M', 'longFmt': '360,900,000'}, 'totalCashPerShare': {'raw': 5.054, 'fmt': '5.05'}, 'ebitda': {'raw': -186000000, 'fmt': '-186M', 'longFmt': '-186,000,000'}, 'totalDebt': {'raw': 88800000, 'fmt': '88.8M', 'longFmt': '88,800,000'}, 'quickRatio': {'raw': 0.807, 'fmt': '0.81'}, 'currentRatio': {'raw': 1.362, 'fmt': '1.36'}, 'totalRevenue': {'raw': 492500000, 'fmt': '492.5M', 'longFmt': '492,500,000'}, 'debtToEquity': {'raw': 14.975, 'fmt': '14.98%'}, 'revenuePerShare': {'raw': 6.982, 'fmt': '6.98'}, 'returnOnAssets': {'raw': -0.07423, 'fmt': '-7.42%'}, 'returnOnEquity': {'raw': -0.32518002, 'fmt': '-32.52%'}, 'grossProfits': {'raw': 213200000, 'fmt': '213.2M', 'longFmt': '213,200,000'}, 'freeCashflow': {'raw': 18487500, 'fmt': '18.49M', 'longFmt': '18,487,500'}, 'operatingCashflow': {'raw': -41300000, 'fmt': '-41.3M', 'longFmt': '-41,300,000'}, 'earningsGrowth': {}, 'revenueGrowth': {'raw': 0.186, 'fmt': '18.60%'}, 'grossMargins': {'raw': 0.43289003, 'fmt': '43.29%'}, 'ebitdaMargins': {'raw': -0.37765998, 'fmt': '-37.77%'}, 'operatingMargins': {'raw': -0.48169997, 'fmt': '-48.17%'}, 'profitMargins': {'raw': -0.43574002, 'fmt': '-43.57%'}, 'financialCurrency': 'USD'}}], 'error': None}}\n",
            "52 week high is: $53.85\n",
            "52 week low is: $14.03\n",
            "ROA is: -7.42%\n",
            "AMC Entertainment Holdings, Inc.\n",
            "{'quoteSummary': {'result': [{'summaryDetail': {'maxAge': 1, 'priceHint': {'raw': 4, 'fmt': '4', 'longFmt': '4'}, 'previousClose': {'raw': 3.36, 'fmt': '3.3600'}, 'open': {'raw': 3.38, 'fmt': '3.3800'}, 'dayLow': {'raw': 3.16, 'fmt': '3.1600'}, 'dayHigh': {'raw': 3.4, 'fmt': '3.4000'}, 'regularMarketPreviousClose': {'raw': 3.36, 'fmt': '3.3600'}, 'regularMarketOpen': {'raw': 3.38, 'fmt': '3.3800'}, 'regularMarketDayLow': {'raw': 3.16, 'fmt': '3.1600'}, 'regularMarketDayHigh': {'raw': 3.4, 'fmt': '3.4000'}, 'dividendRate': {}, 'dividendYield': {}, 'exDividendDate': {'raw': 1583452800, 'fmt': '2020-03-06'}, 'payoutRatio': {'raw': 0.0, 'fmt': '0.00%'}, 'fiveYearAvgDividendYield': {'raw': 6.02, 'fmt': '6.02'}, 'beta': {'raw': 2.041, 'fmt': '2.04'}, 'forwardPE': {'raw': -4.7391305, 'fmt': '-4.74'}, 'volume': {'raw': 14114926, 'fmt': '14.11M', 'longFmt': '14,114,926'}, 'regularMarketVolume': {'raw': 14114926, 'fmt': '14.11M', 'longFmt': '14,114,926'}, 'averageVolume': {'raw': 13531801, 'fmt': '13.53M', 'longFmt': '13,531,801'}, 'averageVolume10days': {'raw': 11409860, 'fmt': '11.41M', 'longFmt': '11,409,860'}, 'averageDailyVolume10Day': {'raw': 11409860, 'fmt': '11.41M', 'longFmt': '11,409,860'}, 'bid': {'raw': 3.27, 'fmt': '3.2700'}, 'ask': {'raw': 3.31, 'fmt': '3.3100'}, 'bidSize': {'raw': 2200, 'fmt': '2.2k', 'longFmt': '2,200'}, 'askSize': {'raw': 2900, 'fmt': '2.9k', 'longFmt': '2,900'}, 'marketCap': {'raw': 1247410176, 'fmt': '1.25B', 'longFmt': '1,247,410,176'}, 'yield': {}, 'ytdReturn': {}, 'qtdReturn': {}, 'totalAssets': {}, 'expireDate': {}, 'strikePrice': {}, 'openInterest': {}, 'fiftyTwoWeekLow': {'raw': 2.38, 'fmt': '2.3800'}, 'fiftyTwoWeekHigh': {'raw': 11.88, 'fmt': '11.8800'}, 'priceToSalesTrailing12Months': {'raw': 0.2812523, 'fmt': '0.28'}, 'fiftyDayAverage': {'raw': 3.664, 'fmt': '3.6640'}, 'twoHundredDayAverage': {'raw': 4.4748, 'fmt': '4.4748'}, 'trailingAnnualDividendRate': {'raw': 0.0, 'fmt': '0.00'}, 'trailingAnnualDividendYield': {'raw': 0.0, 'fmt': '0.00%'}, 'navPrice': {}, 'currency': 'USD', 'fromCurrency': None, 'toCurrency': None, 'lastMarket': None, 'coinMarketCapLink': None, 'volume24Hr': {}, 'volumeAllCurrencies': {}, 'circulatingSupply': {}, 'algorithm': None, 'maxSupply': {}, 'startDate': {}, 'tradeable': False}, 'financialData': {'maxAge': 86400, 'currentPrice': {'raw': 3.27, 'fmt': '3.27'}, 'targetHighPrice': {'raw': 4.0, 'fmt': '4.00'}, 'targetLowPrice': {'raw': 2.9, 'fmt': '2.90'}, 'targetMeanPrice': {'raw': 3.5375, 'fmt': '3.54'}, 'targetMedianPrice': {'raw': 3.625, 'fmt': '3.62'}, 'recommendationMean': {}, 'recommendationKey': 'none', 'numberOfAnalystOpinions': {'raw': 4, 'fmt': '4', 'longFmt': '4'}, 'totalCash': {'raw': 527400000, 'fmt': '527.4M', 'longFmt': '527,400,000'}, 'totalCashPerShare': {'raw': 1.404, 'fmt': '1.4'}, 'ebitda': {'raw': 198300000, 'fmt': '198.3M', 'longFmt': '198,300,000'}, 'totalDebt': {'raw': 8463099904, 'fmt': '8.46B', 'longFmt': '8,463,099,904'}, 'quickRatio': {'raw': 0.402, 'fmt': '0.40'}, 'currentRatio': {'raw': 0.5, 'fmt': '0.50'}, 'totalRevenue': {'raw': 4435200000, 'fmt': '4.44B', 'longFmt': '4,435,200,000'}, 'debtToEquity': {}, 'revenuePerShare': {'raw': 15.208, 'fmt': '15.21'}, 'returnOnAssets': {'raw': -0.0094099995, 'fmt': '-0.94%'}, 'returnOnEquity': {}, 'grossProfits': {'raw': 509000000, 'fmt': '509M', 'longFmt': '509,000,000'}, 'freeCashflow': {'raw': -247587504, 'fmt': '-247.59M', 'longFmt': '-247,587,504'}, 'operatingCashflow': {'raw': -332200000, 'fmt': '-332.2M', 'longFmt': '-332,200,000'}, 'earningsGrowth': {}, 'revenueGrowth': {'raw': -0.041, 'fmt': '-4.10%'}, 'grossMargins': {'raw': 0.11476, 'fmt': '11.48%'}, 'ebitdaMargins': {'raw': 0.044710003, 'fmt': '4.47%'}, 'operatingMargins': {'raw': 0.05301, 'fmt': '5.30%'}, 'profitMargins': {'raw': -0.08996, 'fmt': '-9.00%'}, 'financialCurrency': 'USD'}}], 'error': None}}\n",
            "52 week high is: $11.8800\n",
            "52 week low is: $2.3800\n",
            "ROA is: -0.94%\n",
            "Intuit Inc.\n",
            "{'quoteSummary': {'result': [{'summaryDetail': {'maxAge': 1, 'priceHint': {'raw': 2, 'fmt': '2', 'longFmt': '2'}, 'previousClose': {'raw': 567.24, 'fmt': '567.24'}, 'open': {'raw': 568.955, 'fmt': '568.96'}, 'dayLow': {'raw': 553.31, 'fmt': '553.31'}, 'dayHigh': {'raw': 571.42, 'fmt': '571.42'}, 'regularMarketPreviousClose': {'raw': 567.24, 'fmt': '567.24'}, 'regularMarketOpen': {'raw': 568.955, 'fmt': '568.96'}, 'regularMarketDayLow': {'raw': 553.31, 'fmt': '553.31'}, 'regularMarketDayHigh': {'raw': 571.42, 'fmt': '571.42'}, 'dividendRate': {'raw': 4.16, 'fmt': '4.16'}, 'dividendYield': {'raw': 0.0073, 'fmt': '0.73%'}, 'exDividendDate': {'raw': 1736467200, 'fmt': '2025-01-10'}, 'payoutRatio': {'raw': 0.36380002, 'fmt': '36.38%'}, 'fiveYearAvgDividendYield': {'raw': 0.6, 'fmt': '0.60'}, 'beta': {'raw': 1.244, 'fmt': '1.24'}, 'trailingPE': {'raw': 54.102238, 'fmt': '54.10'}, 'forwardPE': {'raw': 24.994602, 'fmt': '24.99'}, 'volume': {'raw': 2941099, 'fmt': '2.94M', 'longFmt': '2,941,099'}, 'regularMarketVolume': {'raw': 2941099, 'fmt': '2.94M', 'longFmt': '2,941,099'}, 'averageVolume': {'raw': 1667010, 'fmt': '1.67M', 'longFmt': '1,667,010'}, 'averageVolume10days': {'raw': 1899120, 'fmt': '1.9M', 'longFmt': '1,899,120'}, 'averageDailyVolume10Day': {'raw': 1899120, 'fmt': '1.9M', 'longFmt': '1,899,120'}, 'bid': {'raw': 527.25, 'fmt': '527.25'}, 'ask': {'raw': 589.93, 'fmt': '589.93'}, 'bidSize': {'raw': 100, 'fmt': '100', 'longFmt': '100'}, 'askSize': {'raw': 100, 'fmt': '100', 'longFmt': '100'}, 'marketCap': {'raw': 155530280960, 'fmt': '155.53B', 'longFmt': '155,530,280,960'}, 'yield': {}, 'ytdReturn': {}, 'qtdReturn': {}, 'totalAssets': {}, 'expireDate': {}, 'strikePrice': {}, 'openInterest': {}, 'fiftyTwoWeekLow': {'raw': 553.31, 'fmt': '553.31'}, 'fiftyTwoWeekHigh': {'raw': 714.78, 'fmt': '714.78'}, 'priceToSalesTrailing12Months': {'raw': 9.374942, 'fmt': '9.37'}, 'fiftyDayAverage': {'raw': 614.6766, 'fmt': '614.68'}, 'twoHundredDayAverage': {'raw': 627.73193, 'fmt': '627.73'}, 'trailingAnnualDividendRate': {'raw': 3.74, 'fmt': '3.74'}, 'trailingAnnualDividendYield': {'raw': 0.0065933294, 'fmt': '0.66%'}, 'navPrice': {}, 'currency': 'USD', 'fromCurrency': None, 'toCurrency': None, 'lastMarket': None, 'coinMarketCapLink': None, 'volume24Hr': {}, 'volumeAllCurrencies': {}, 'circulatingSupply': {}, 'algorithm': None, 'maxSupply': {}, 'startDate': {}, 'tradeable': False}, 'financialData': {'maxAge': 86400, 'currentPrice': {'raw': 555.63, 'fmt': '555.63'}, 'targetHighPrice': {'raw': 800.0, 'fmt': '800.00'}, 'targetLowPrice': {'raw': 530.0, 'fmt': '530.00'}, 'targetMeanPrice': {'raw': 719.24133, 'fmt': '719.24'}, 'targetMedianPrice': {'raw': 750.0, 'fmt': '750.00'}, 'recommendationMean': {'raw': 1.84848, 'fmt': '1.85'}, 'recommendationKey': 'buy', 'numberOfAnalystOpinions': {'raw': 30, 'fmt': '30', 'longFmt': '30'}, 'totalCash': {}, 'totalCashPerShare': {}, 'ebitda': {'raw': 4480000000, 'fmt': '4.48B', 'longFmt': '4,480,000,000'}, 'totalDebt': {}, 'quickRatio': {'raw': 0.442, 'fmt': '0.44'}, 'currentRatio': {'raw': 1.244, 'fmt': '1.24'}, 'totalRevenue': {'raw': 16590000128, 'fmt': '16.59B', 'longFmt': '16,590,000,128'}, 'debtToEquity': {}, 'revenuePerShare': {'raw': 59.25, 'fmt': '59.25'}, 'returnOnAssets': {'raw': 0.07754, 'fmt': '7.75%'}, 'returnOnEquity': {'raw': 0.16619, 'fmt': '16.62%'}, 'grossProfits': {'raw': 13207000064, 'fmt': '13.21B', 'longFmt': '13,207,000,064'}, 'freeCashflow': {'raw': 4534125056, 'fmt': '4.53B', 'longFmt': '4,534,125,056'}, 'operatingCashflow': {'raw': 5343000064, 'fmt': '5.34B', 'longFmt': '5,343,000,064'}, 'earningsGrowth': {'raw': -0.185, 'fmt': '-18.50%'}, 'revenueGrowth': {'raw': 0.41, 'fmt': '41.00%'}, 'grossMargins': {'raw': 0.79608, 'fmt': '79.61%'}, 'ebitdaMargins': {'raw': 0.27004, 'fmt': '27.00%'}, 'operatingMargins': {'raw': 0.15697, 'fmt': '15.70%'}, 'profitMargins': {'raw': 0.17594999, 'fmt': '17.59%'}, 'financialCurrency': 'USD'}}], 'error': None}}\n",
            "52 week high is: $714.78\n",
            "52 week low is: $553.31\n",
            "ROA is: 7.75%\n",
            "Organovo Holdings, Inc.\n",
            "{'quoteSummary': {'result': [{'summaryDetail': {'maxAge': 1, 'priceHint': {'raw': 4, 'fmt': '4', 'longFmt': '4'}, 'previousClose': {'raw': 0.369, 'fmt': '0.3690'}, 'open': {'raw': 1.2599, 'fmt': '1.2599'}, 'dayLow': {'raw': 0.94, 'fmt': '0.9400'}, 'dayHigh': {'raw': 1.83, 'fmt': '1.8300'}, 'regularMarketPreviousClose': {'raw': 0.369, 'fmt': '0.3690'}, 'regularMarketOpen': {'raw': 1.2599, 'fmt': '1.2599'}, 'regularMarketDayLow': {'raw': 0.94, 'fmt': '0.9400'}, 'regularMarketDayHigh': {'raw': 1.83, 'fmt': '1.8300'}, 'dividendRate': {}, 'dividendYield': {}, 'exDividendDate': {}, 'payoutRatio': {'raw': 0.0, 'fmt': '0.00%'}, 'fiveYearAvgDividendYield': {}, 'beta': {'raw': 0.532, 'fmt': '0.53'}, 'forwardPE': {'raw': -1.6933333, 'fmt': '-1.69'}, 'volume': {'raw': 377557733, 'fmt': '377.56M', 'longFmt': '377,557,733'}, 'regularMarketVolume': {'raw': 377557733, 'fmt': '377.56M', 'longFmt': '377,557,733'}, 'averageVolume': {'raw': 195083, 'fmt': '195.08k', 'longFmt': '195,083'}, 'averageVolume10days': {'raw': 108630, 'fmt': '108.63k', 'longFmt': '108,630'}, 'averageDailyVolume10Day': {'raw': 108630, 'fmt': '108.63k', 'longFmt': '108,630'}, 'bid': {'raw': 1.07, 'fmt': '1.0700'}, 'ask': {'raw': 1.43, 'fmt': '1.4300'}, 'bidSize': {'raw': 100, 'fmt': '100', 'longFmt': '100'}, 'askSize': {'raw': 100, 'fmt': '100', 'longFmt': '100'}, 'marketCap': {'raw': 22167214, 'fmt': '22.17M', 'longFmt': '22,167,214'}, 'yield': {}, 'ytdReturn': {}, 'qtdReturn': {}, 'totalAssets': {}, 'expireDate': {}, 'strikePrice': {}, 'openInterest': {}, 'fiftyTwoWeekLow': {'raw': 0.32, 'fmt': '0.3200'}, 'fiftyTwoWeekHigh': {'raw': 1.83, 'fmt': '1.8300'}, 'priceToSalesTrailing12Months': {'raw': 181.69847, 'fmt': '181.70'}, 'fiftyDayAverage': {'raw': 0.377, 'fmt': '0.3770'}, 'twoHundredDayAverage': {'raw': 0.5605, 'fmt': '0.5605'}, 'trailingAnnualDividendRate': {'raw': 0.0, 'fmt': '0.00'}, 'trailingAnnualDividendYield': {'raw': 0.0, 'fmt': '0.00%'}, 'navPrice': {}, 'currency': 'USD', 'fromCurrency': None, 'toCurrency': None, 'lastMarket': None, 'coinMarketCapLink': None, 'volume24Hr': {}, 'volumeAllCurrencies': {}, 'circulatingSupply': {}, 'algorithm': None, 'maxSupply': {}, 'startDate': {}, 'tradeable': False}, 'financialData': {'maxAge': 86400, 'currentPrice': {'raw': 1.27, 'fmt': '1.27'}, 'targetHighPrice': {'raw': 5.4, 'fmt': '5.40'}, 'targetLowPrice': {'raw': 5.4, 'fmt': '5.40'}, 'targetMeanPrice': {'raw': 5.4, 'fmt': '5.40'}, 'targetMedianPrice': {'raw': 5.4, 'fmt': '5.40'}, 'recommendationMean': {}, 'recommendationKey': 'none', 'numberOfAnalystOpinions': {'raw': 1, 'fmt': '1', 'longFmt': '1'}, 'totalCash': {'raw': 1161000, 'fmt': '1.16M', 'longFmt': '1,161,000'}, 'totalCashPerShare': {'raw': 0.067, 'fmt': '0.07'}, 'ebitda': {'raw': -12282000, 'fmt': '-12.28M', 'longFmt': '-12,282,000'}, 'totalDebt': {'raw': 1060000, 'fmt': '1.06M', 'longFmt': '1,060,000'}, 'quickRatio': {'raw': 0.404, 'fmt': '0.40'}, 'currentRatio': {'raw': 0.715, 'fmt': '0.71'}, 'totalRevenue': {'raw': 122000, 'fmt': '122k', 'longFmt': '122,000'}, 'debtToEquity': {'raw': 291.209, 'fmt': '291.21%'}, 'revenuePerShare': {'raw': 0.008, 'fmt': '0.01'}, 'returnOnAssets': {'raw': -1.2336, 'fmt': '-123.36%'}, 'returnOnEquity': {'raw': -3.78399, 'fmt': '-378.40%'}, 'grossProfits': {'raw': -5112000, 'fmt': '-5.11M', 'longFmt': '-5,112,000'}, 'freeCashflow': {'raw': -5717875, 'fmt': '-5.72M', 'longFmt': '-5,717,875'}, 'operatingCashflow': {'raw': -10097000, 'fmt': '-10.1M', 'longFmt': '-10,097,000'}, 'earningsGrowth': {}, 'revenueGrowth': {'raw': 3.8, 'fmt': '380.00%'}, 'grossMargins': {'raw': 0.0, 'fmt': '0.00%'}, 'ebitdaMargins': {'raw': 0.0, 'fmt': '0.00%'}, 'operatingMargins': {'raw': -144.5, 'fmt': '-14,450.00%'}, 'profitMargins': {'raw': 0.0, 'fmt': '0.00%'}, 'financialCurrency': 'USD'}}], 'error': None}}\n",
            "52 week high is: $1.8300\n",
            "52 week low is: $0.3200\n",
            "ROA is: -123.36%\n",
            "Axon Enterprise, Inc.\n",
            "{'message': 'Limit Exceeded', 'hint': 'Upgrade for bigger plan at https://financeapi.net/pricing'}\n"
          ]
        },
        {
          "output_type": "error",
          "ename": "KeyError",
          "evalue": "'quoteSummary'",
          "traceback": [
            "\u001b[0;31m---------------------------------------------------------------------------\u001b[0m",
            "\u001b[0;31mKeyError\u001b[0m                                  Traceback (most recent call last)",
            "\u001b[0;32m<ipython-input-60-b12a68c79b55>\u001b[0m in \u001b[0;36m<cell line: 0>\u001b[0;34m()\u001b[0m\n\u001b[1;32m     25\u001b[0m   \u001b[0mresponse2\u001b[0m \u001b[0;34m=\u001b[0m \u001b[0mrequests\u001b[0m\u001b[0;34m.\u001b[0m\u001b[0mrequest\u001b[0m\u001b[0;34m(\u001b[0m\u001b[0;34m\"GET\"\u001b[0m\u001b[0;34m,\u001b[0m \u001b[0murl3\u001b[0m\u001b[0;34m+\u001b[0m\u001b[0mi\u001b[0m\u001b[0;34m[\u001b[0m\u001b[0;34m'symbol'\u001b[0m\u001b[0;34m]\u001b[0m\u001b[0;34m,\u001b[0m \u001b[0mheaders\u001b[0m\u001b[0;34m=\u001b[0m\u001b[0mheaders\u001b[0m\u001b[0;34m,\u001b[0m \u001b[0mparams\u001b[0m\u001b[0;34m=\u001b[0m\u001b[0mquerystring\u001b[0m\u001b[0;34m)\u001b[0m\u001b[0;34m\u001b[0m\u001b[0;34m\u001b[0m\u001b[0m\n\u001b[1;32m     26\u001b[0m   \u001b[0mprint\u001b[0m\u001b[0;34m(\u001b[0m\u001b[0mresponse2\u001b[0m\u001b[0;34m.\u001b[0m\u001b[0mjson\u001b[0m\u001b[0;34m(\u001b[0m\u001b[0;34m)\u001b[0m\u001b[0;34m)\u001b[0m\u001b[0;34m\u001b[0m\u001b[0;34m\u001b[0m\u001b[0m\n\u001b[0;32m---> 27\u001b[0;31m   \u001b[0mdata\u001b[0m \u001b[0;34m=\u001b[0m \u001b[0mresponse2\u001b[0m\u001b[0;34m.\u001b[0m\u001b[0mjson\u001b[0m\u001b[0;34m(\u001b[0m\u001b[0;34m)\u001b[0m\u001b[0;34m[\u001b[0m\u001b[0;34m'quoteSummary'\u001b[0m\u001b[0;34m]\u001b[0m\u001b[0;34m[\u001b[0m\u001b[0;34m'result'\u001b[0m\u001b[0;34m]\u001b[0m\u001b[0;34m[\u001b[0m\u001b[0;36m0\u001b[0m\u001b[0;34m]\u001b[0m\u001b[0;34m\u001b[0m\u001b[0;34m\u001b[0m\u001b[0m\n\u001b[0m\u001b[1;32m     28\u001b[0m   \u001b[0mdf\u001b[0m \u001b[0;34m=\u001b[0m \u001b[0mpd\u001b[0m\u001b[0;34m.\u001b[0m\u001b[0mjson_normalize\u001b[0m\u001b[0;34m(\u001b[0m\u001b[0mdata\u001b[0m\u001b[0;34m)\u001b[0m\u001b[0;34m\u001b[0m\u001b[0;34m\u001b[0m\u001b[0m\n\u001b[1;32m     29\u001b[0m \u001b[0;34m\u001b[0m\u001b[0m\n",
            "\u001b[0;31mKeyError\u001b[0m: 'quoteSummary'"
          ]
        }
      ]
    },
    {
      "cell_type": "code",
      "source": [
        "api_key = ''\n",
        "tail_number = 'N272BG'\n",
        "date_from = '2025-02-20'\n",
        "date_to = '2025-02-25'\n",
        "\n",
        "url = f\"https://aerodatabox.p.rapidapi.com/flights/reg/{tail_number}/{date_from}/{date_to}\"\n",
        "\n",
        "headers = {\n",
        "    'x-rapidapi-host': 'aerodatabox.p.rapidapi.com',\n",
        "    'x-rapidapi-key': api_key\n",
        "}\n",
        "\n",
        "response = requests.get(url, headers=headers)\n",
        "print(json.dumps(response.json(), indent=4))\n",
        "# data = response.json()[0][\"arrival\"][\"airport\"][\"municipalityName\"]\n",
        "print(\"unless I webscrape, I can't really find elon through a free api, I paid for this current api\")"
      ],
      "metadata": {
        "colab": {
          "base_uri": "https://localhost:8080/"
        },
        "id": "qXwIUSYJouY-",
        "outputId": "0fc96fde-cced-454e-c78f-77deeaaf2a0a"
      },
      "execution_count": 70,
      "outputs": [
        {
          "output_type": "stream",
          "name": "stdout",
          "text": [
            "{\n",
            "    \"message\": \"The result is available but cannot be displayed for legal reasons: the aircraft owner blocked the flight from being displayed under the FAA LADD Program (https://www.faa.gov/pilots/ladd)\"\n",
            "}\n",
            "unless I webscrape, I can't really find elon through a free api, I paid for this current api\n"
          ]
        }
      ]
    },
    {
      "cell_type": "markdown",
      "source": [],
      "metadata": {
        "id": "kWXkmJcvouM7"
      }
    }
  ]
}