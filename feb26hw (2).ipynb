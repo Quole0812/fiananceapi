{
  "nbformat": 4,
  "nbformat_minor": 0,
  "metadata": {
    "colab": {
      "provenance": []
    },
    "kernelspec": {
      "name": "python3",
      "display_name": "Python 3"
    },
    "language_info": {
      "name": "python"
    }
  },
  "cells": [
    {
      "cell_type": "markdown",
      "source": [
        "#Task 1"
      ],
      "metadata": {
        "id": "icf3_gTabLuh"
      }
    },
    {
      "cell_type": "code",
      "execution_count": null,
      "metadata": {
        "id": "J4Uga58YuFmZ"
      },
      "outputs": [],
      "source": [
        "import json\n",
        "import pandas as pd\n",
        "import json\n",
        "import requests"
      ]
    },
    {
      "cell_type": "code",
      "source": [
        "#get stock from the user\n",
        "stock=input(\"plz put in 2 or more stocks, separated by commas, like NASDAQ,GOOGL,....\")"
      ],
      "metadata": {
        "colab": {
          "base_uri": "https://localhost:8080/"
        },
        "id": "s0YaWykeuOSI",
        "outputId": "e2591550-fa9b-481f-bd3e-10c8b8f707ba"
      },
      "execution_count": null,
      "outputs": [
        {
          "name": "stdout",
          "output_type": "stream",
          "text": [
            "plz put in 2 or more stocks, separated by commas, like NASDAQ,GOOGL,....GOOG,AMZN\n"
          ]
        }
      ]
    },
    {
      "cell_type": "code",
      "source": [
        "apikey=\"\"\n",
        "\n",
        "url = \"https://yfapi.net/v6/finance/quote\"\n",
        "\n",
        "querystring = {\"symbols\":stock}\n",
        "\n",
        "headers = {\n",
        "    'x-api-key': apikey\n",
        "    }\n",
        "\n",
        "response = requests.request(\"GET\", url, headers=headers, params=querystring)\n",
        "\n",
        "\n",
        "df = pd.DataFrame(response.json()['quoteResponse']['result'])\n",
        "\n",
        "\n",
        "saved = df[['symbol', 'longName', 'regularMarketPrice']]\n",
        "\n",
        "\n",
        "\n",
        "for row in df.itertuples():\n",
        "    print(f\"Stock Ticker: {row.symbol}, Company: {row.longName}, Current Market Price: ${row.regularMarketPrice}\")\n",
        "\n",
        "    #Stock Ticker: AAPL, Company: Apple Inc., Current Market Price: $175.23"
      ],
      "metadata": {
        "colab": {
          "base_uri": "https://localhost:8080/"
        },
        "id": "O04WyyGaucWI",
        "outputId": "993f89c4-44e6-47f2-b3e4-7a92c095134d"
      },
      "execution_count": null,
      "outputs": [
        {
          "output_type": "stream",
          "name": "stdout",
          "text": [
            "Stock Ticker: GOOG, Company: Alphabet Inc., Current Market Price: $174.61\n",
            "Stock Ticker: AMZN, Company: Amazon.com, Inc., Current Market Price: $213.7301\n"
          ]
        }
      ]
    },
    {
      "cell_type": "markdown",
      "source": [
        "#Task 2.1"
      ],
      "metadata": {
        "id": "CHZnPpNaJ6sG"
      }
    },
    {
      "cell_type": "markdown",
      "source": [
        "For 52 week high, 52 week low, or ROA, we need either summaryDetail or financialData"
      ],
      "metadata": {
        "id": "HPzaTXidKY3M"
      }
    },
    {
      "cell_type": "code",
      "source": [
        "url = \"https://yfapi.net/v11/finance/quoteSummary/\"\n",
        "\n",
        "ticker_symbols =input(\"Enter Stock Name: \")\n",
        "module = \"summaryDetail,financialData\"\n",
        "\n",
        "\n",
        "querystring = {\n",
        "    \"symbol\":ticker_symbols,\n",
        "    \"modules\": module\n",
        "}\n",
        "\n",
        "headers = {\n",
        "    'x-api-key': apikey\n",
        "}\n",
        "\n",
        "\n",
        "response = requests.request(\"GET\", url+ticker_symbols, headers=headers, params=querystring)\n",
        "data = response.json()['quoteSummary']['result'][0]\n",
        "\n",
        "\n",
        "df = pd.json_normalize(data)\n",
        "print(\"\\nTask 2.1 DataFrame Output:\")\n",
        "df.head()\n",
        "\n"
      ],
      "metadata": {
        "id": "jo0QOoGAv52L",
        "colab": {
          "base_uri": "https://localhost:8080/",
          "height": 182
        },
        "outputId": "9b831f8a-1d76-43c1-deb1-6aef44e9fdb3"
      },
      "execution_count": null,
      "outputs": [
        {
          "output_type": "stream",
          "name": "stdout",
          "text": [
            "Enter Stock Name: GOOG\n",
            "\n",
            "Task 2.1 DataFrame Output:\n"
          ]
        },
        {
          "output_type": "execute_result",
          "data": {
            "text/plain": [
              "   summaryDetail.maxAge  summaryDetail.priceHint.raw  \\\n",
              "0                     1                            2   \n",
              "\n",
              "  summaryDetail.priceHint.fmt summaryDetail.priceHint.longFmt  \\\n",
              "0                           2                               2   \n",
              "\n",
              "   summaryDetail.previousClose.raw summaryDetail.previousClose.fmt  \\\n",
              "0                           177.37                          177.37   \n",
              "\n",
              "   summaryDetail.open.raw summaryDetail.open.fmt  summaryDetail.dayLow.raw  \\\n",
              "0                 176.945                 176.95                    173.59   \n",
              "\n",
              "  summaryDetail.dayLow.fmt  ...  financialData.revenueGrowth.fmt  \\\n",
              "0                   173.59  ...                           11.80%   \n",
              "\n",
              "  financialData.grossMargins.raw  financialData.grossMargins.fmt  \\\n",
              "0                          0.582                          58.20%   \n",
              "\n",
              "  financialData.ebitdaMargins.raw  financialData.ebitdaMargins.fmt  \\\n",
              "0                         0.36997                           37.00%   \n",
              "\n",
              "  financialData.operatingMargins.raw  financialData.operatingMargins.fmt  \\\n",
              "0                            0.33967                              33.97%   \n",
              "\n",
              "  financialData.profitMargins.raw  financialData.profitMargins.fmt  \\\n",
              "0                         0.28604                           28.60%   \n",
              "\n",
              "  financialData.financialCurrency  \n",
              "0                             USD  \n",
              "\n",
              "[1 rows x 148 columns]"
            ],
            "text/html": [
              "\n",
              "  <div id=\"df-5567a836-3a82-49af-aedf-905edc96e81f\" class=\"colab-df-container\">\n",
              "    <div>\n",
              "<style scoped>\n",
              "    .dataframe tbody tr th:only-of-type {\n",
              "        vertical-align: middle;\n",
              "    }\n",
              "\n",
              "    .dataframe tbody tr th {\n",
              "        vertical-align: top;\n",
              "    }\n",
              "\n",
              "    .dataframe thead th {\n",
              "        text-align: right;\n",
              "    }\n",
              "</style>\n",
              "<table border=\"1\" class=\"dataframe\">\n",
              "  <thead>\n",
              "    <tr style=\"text-align: right;\">\n",
              "      <th></th>\n",
              "      <th>summaryDetail.maxAge</th>\n",
              "      <th>summaryDetail.priceHint.raw</th>\n",
              "      <th>summaryDetail.priceHint.fmt</th>\n",
              "      <th>summaryDetail.priceHint.longFmt</th>\n",
              "      <th>summaryDetail.previousClose.raw</th>\n",
              "      <th>summaryDetail.previousClose.fmt</th>\n",
              "      <th>summaryDetail.open.raw</th>\n",
              "      <th>summaryDetail.open.fmt</th>\n",
              "      <th>summaryDetail.dayLow.raw</th>\n",
              "      <th>summaryDetail.dayLow.fmt</th>\n",
              "      <th>...</th>\n",
              "      <th>financialData.revenueGrowth.fmt</th>\n",
              "      <th>financialData.grossMargins.raw</th>\n",
              "      <th>financialData.grossMargins.fmt</th>\n",
              "      <th>financialData.ebitdaMargins.raw</th>\n",
              "      <th>financialData.ebitdaMargins.fmt</th>\n",
              "      <th>financialData.operatingMargins.raw</th>\n",
              "      <th>financialData.operatingMargins.fmt</th>\n",
              "      <th>financialData.profitMargins.raw</th>\n",
              "      <th>financialData.profitMargins.fmt</th>\n",
              "      <th>financialData.financialCurrency</th>\n",
              "    </tr>\n",
              "  </thead>\n",
              "  <tbody>\n",
              "    <tr>\n",
              "      <th>0</th>\n",
              "      <td>1</td>\n",
              "      <td>2</td>\n",
              "      <td>2</td>\n",
              "      <td>2</td>\n",
              "      <td>177.37</td>\n",
              "      <td>177.37</td>\n",
              "      <td>176.945</td>\n",
              "      <td>176.95</td>\n",
              "      <td>173.59</td>\n",
              "      <td>173.59</td>\n",
              "      <td>...</td>\n",
              "      <td>11.80%</td>\n",
              "      <td>0.582</td>\n",
              "      <td>58.20%</td>\n",
              "      <td>0.36997</td>\n",
              "      <td>37.00%</td>\n",
              "      <td>0.33967</td>\n",
              "      <td>33.97%</td>\n",
              "      <td>0.28604</td>\n",
              "      <td>28.60%</td>\n",
              "      <td>USD</td>\n",
              "    </tr>\n",
              "  </tbody>\n",
              "</table>\n",
              "<p>1 rows × 148 columns</p>\n",
              "</div>\n",
              "    <div class=\"colab-df-buttons\">\n",
              "\n",
              "  <div class=\"colab-df-container\">\n",
              "    <button class=\"colab-df-convert\" onclick=\"convertToInteractive('df-5567a836-3a82-49af-aedf-905edc96e81f')\"\n",
              "            title=\"Convert this dataframe to an interactive table.\"\n",
              "            style=\"display:none;\">\n",
              "\n",
              "  <svg xmlns=\"http://www.w3.org/2000/svg\" height=\"24px\" viewBox=\"0 -960 960 960\">\n",
              "    <path d=\"M120-120v-720h720v720H120Zm60-500h600v-160H180v160Zm220 220h160v-160H400v160Zm0 220h160v-160H400v160ZM180-400h160v-160H180v160Zm440 0h160v-160H620v160ZM180-180h160v-160H180v160Zm440 0h160v-160H620v160Z\"/>\n",
              "  </svg>\n",
              "    </button>\n",
              "\n",
              "  <style>\n",
              "    .colab-df-container {\n",
              "      display:flex;\n",
              "      gap: 12px;\n",
              "    }\n",
              "\n",
              "    .colab-df-convert {\n",
              "      background-color: #E8F0FE;\n",
              "      border: none;\n",
              "      border-radius: 50%;\n",
              "      cursor: pointer;\n",
              "      display: none;\n",
              "      fill: #1967D2;\n",
              "      height: 32px;\n",
              "      padding: 0 0 0 0;\n",
              "      width: 32px;\n",
              "    }\n",
              "\n",
              "    .colab-df-convert:hover {\n",
              "      background-color: #E2EBFA;\n",
              "      box-shadow: 0px 1px 2px rgba(60, 64, 67, 0.3), 0px 1px 3px 1px rgba(60, 64, 67, 0.15);\n",
              "      fill: #174EA6;\n",
              "    }\n",
              "\n",
              "    .colab-df-buttons div {\n",
              "      margin-bottom: 4px;\n",
              "    }\n",
              "\n",
              "    [theme=dark] .colab-df-convert {\n",
              "      background-color: #3B4455;\n",
              "      fill: #D2E3FC;\n",
              "    }\n",
              "\n",
              "    [theme=dark] .colab-df-convert:hover {\n",
              "      background-color: #434B5C;\n",
              "      box-shadow: 0px 1px 3px 1px rgba(0, 0, 0, 0.15);\n",
              "      filter: drop-shadow(0px 1px 2px rgba(0, 0, 0, 0.3));\n",
              "      fill: #FFFFFF;\n",
              "    }\n",
              "  </style>\n",
              "\n",
              "    <script>\n",
              "      const buttonEl =\n",
              "        document.querySelector('#df-5567a836-3a82-49af-aedf-905edc96e81f button.colab-df-convert');\n",
              "      buttonEl.style.display =\n",
              "        google.colab.kernel.accessAllowed ? 'block' : 'none';\n",
              "\n",
              "      async function convertToInteractive(key) {\n",
              "        const element = document.querySelector('#df-5567a836-3a82-49af-aedf-905edc96e81f');\n",
              "        const dataTable =\n",
              "          await google.colab.kernel.invokeFunction('convertToInteractive',\n",
              "                                                    [key], {});\n",
              "        if (!dataTable) return;\n",
              "\n",
              "        const docLinkHtml = 'Like what you see? Visit the ' +\n",
              "          '<a target=\"_blank\" href=https://colab.research.google.com/notebooks/data_table.ipynb>data table notebook</a>'\n",
              "          + ' to learn more about interactive tables.';\n",
              "        element.innerHTML = '';\n",
              "        dataTable['output_type'] = 'display_data';\n",
              "        await google.colab.output.renderOutput(dataTable, element);\n",
              "        const docLink = document.createElement('div');\n",
              "        docLink.innerHTML = docLinkHtml;\n",
              "        element.appendChild(docLink);\n",
              "      }\n",
              "    </script>\n",
              "  </div>\n",
              "\n",
              "\n",
              "    </div>\n",
              "  </div>\n"
            ],
            "application/vnd.google.colaboratory.intrinsic+json": {
              "type": "dataframe",
              "variable_name": "df"
            }
          },
          "metadata": {},
          "execution_count": 13
        }
      ]
    },
    {
      "cell_type": "code",
      "source": [
        "print(\"52 week high is: $\" + str(df['summaryDetail.fiftyTwoWeekHigh.fmt'].values[0]).strip())\n",
        "print(\"52 week low is: $\" + str(df['summaryDetail.fiftyTwoWeekLow.fmt'].values[0]).strip())\n",
        "print(\"ROA is: \" + str(df['financialData.returnOnAssets.fmt'].values[0]).strip())\n"
      ],
      "metadata": {
        "id": "Xj-qHedXv5_k",
        "colab": {
          "base_uri": "https://localhost:8080/"
        },
        "outputId": "70d64881-cff0-4132-d81b-b6c301a19227"
      },
      "execution_count": null,
      "outputs": [
        {
          "output_type": "stream",
          "name": "stdout",
          "text": [
            "52 week high is: $208.70\n",
            "52 week low is: $131.55\n",
            "ROA is: 16.74%\n"
          ]
        }
      ]
    },
    {
      "cell_type": "markdown",
      "source": [
        "#Task 2.2"
      ],
      "metadata": {
        "id": "7bWgwMIdWV6g"
      }
    },
    {
      "cell_type": "code",
      "source": [
        "url = \"https://yfapi.net/v1/finance/trending/US\"\n",
        "url2 = \"https://yfapi.net/v6/finance/quote\"\n",
        "url3 = \"https://yfapi.net/v11/finance/quoteSummary/\"\n",
        "\n",
        "headers = {\n",
        "    'x-api-key': apikey\n",
        "    }\n",
        "\n",
        "response = requests.request(\"GET\", url, headers=headers)\n",
        "data = response.json()[\"finance\"][\"result\"][0]\n",
        "\n",
        "for i in data['quotes']:\n",
        "\n",
        "\n",
        "  querystring = {\"symbols\":i['symbol']}\n",
        "\n",
        "  response = requests.request(\"GET\", url2, headers=headers, params=querystring)\n",
        "  # print(response.json()['quoteResponse']['result'][0]['longName'])\n",
        "\n",
        "\n",
        "  querystring = {\n",
        "    \"symbol\":i['symbol'],\n",
        "    \"modules\": module\n",
        "  }\n",
        "  response2 = requests.request(\"GET\", url3+i['symbol'], headers=headers, params=querystring)\n",
        "  # print(response2.json())\n",
        "  data = response2.json()['quoteSummary']['result'][0]\n",
        "  df = pd.json_normalize(data)\n",
        "  print(\"ticker name is: \" + i['symbol'])\n",
        "  print(\"52 week high is: $\" + str(df['summaryDetail.fiftyTwoWeekHigh.fmt'].values[0]).strip())\n",
        "  print(\"52 week low is: $\" + str(df['summaryDetail.fiftyTwoWeekLow.fmt'].values[0]).strip())\n",
        "  print(\"ROA is: \" + str(df['financialData.returnOnAssets.raw'].values[0]).strip())\n",
        "\n"
      ],
      "metadata": {
        "colab": {
          "base_uri": "https://localhost:8080/",
          "height": 1000
        },
        "id": "p0KV3lbqWXYo",
        "outputId": "fd86cb3c-bcd5-4fae-f120-320ac04cdb54"
      },
      "execution_count": null,
      "outputs": [
        {
          "output_type": "stream",
          "name": "stdout",
          "text": [
            "ticker name is: NVDA\n",
            "52 week high is: $153.13\n",
            "52 week low is: $75.61\n",
            "ROA is: 0.59131\n",
            "ticker name is: APP\n",
            "52 week high is: $525.15\n",
            "52 week low is: $57.40\n",
            "ROA is: 0.20856\n",
            "ticker name is: ZI\n",
            "52 week high is: $17.14\n",
            "52 week low is: $7.65\n",
            "ROA is: 0.01844\n",
            "ticker name is: MULN\n",
            "52 week high is: $47,100.0000\n",
            "52 week low is: $2.2900\n",
            "ROA is: -0.59696996\n",
            "ticker name is: NIO\n",
            "52 week high is: $7.7100\n",
            "52 week low is: $3.6100\n",
            "ROA is: -0.13602\n",
            "ticker name is: AAPL\n",
            "52 week high is: $260.10\n",
            "52 week low is: $164.08\n",
            "ROA is: 0.22518998\n",
            "ticker name is: GOOG\n",
            "52 week high is: $208.70\n",
            "52 week low is: $131.55\n",
            "ROA is: 0.1674\n",
            "ticker name is: AAP\n",
            "52 week high is: $88.56\n",
            "52 week low is: $35.59\n",
            "ROA is: 0.0070700003\n",
            "ticker name is: LCID\n",
            "52 week high is: $4.4300\n",
            "52 week low is: $1.9300\n",
            "ROA is: -0.20653\n",
            "ticker name is: ENVB\n",
            "52 week high is: $657.0000\n",
            "52 week low is: $1.1300\n",
            "ROA is: -0.96879995\n",
            "ticker name is: GOOGL\n",
            "52 week high is: $207.05\n",
            "52 week low is: $130.67\n",
            "ROA is: 0.1674\n",
            "ticker name is: NA.TO\n",
            "52 week high is: $141.15\n",
            "52 week low is: $104.84\n",
            "ROA is: 0.0086199995\n",
            "ticker name is: PRCH\n",
            "52 week high is: $6.92\n",
            "52 week low is: $1.05\n",
            "ROA is: -0.057329997\n",
            "ticker name is: BTC-USD\n",
            "52 week high is: $109,114.88\n",
            "52 week low is: $49,121.24\n"
          ]
        },
        {
          "output_type": "error",
          "ename": "KeyError",
          "evalue": "'financialData.returnOnAssets.raw'",
          "traceback": [
            "\u001b[0;31m---------------------------------------------------------------------------\u001b[0m",
            "\u001b[0;31mKeyError\u001b[0m                                  Traceback (most recent call last)",
            "\u001b[0;32m/usr/local/lib/python3.11/dist-packages/pandas/core/indexes/base.py\u001b[0m in \u001b[0;36mget_loc\u001b[0;34m(self, key)\u001b[0m\n\u001b[1;32m   3804\u001b[0m         \u001b[0;32mtry\u001b[0m\u001b[0;34m:\u001b[0m\u001b[0;34m\u001b[0m\u001b[0;34m\u001b[0m\u001b[0m\n\u001b[0;32m-> 3805\u001b[0;31m             \u001b[0;32mreturn\u001b[0m \u001b[0mself\u001b[0m\u001b[0;34m.\u001b[0m\u001b[0m_engine\u001b[0m\u001b[0;34m.\u001b[0m\u001b[0mget_loc\u001b[0m\u001b[0;34m(\u001b[0m\u001b[0mcasted_key\u001b[0m\u001b[0;34m)\u001b[0m\u001b[0;34m\u001b[0m\u001b[0;34m\u001b[0m\u001b[0m\n\u001b[0m\u001b[1;32m   3806\u001b[0m         \u001b[0;32mexcept\u001b[0m \u001b[0mKeyError\u001b[0m \u001b[0;32mas\u001b[0m \u001b[0merr\u001b[0m\u001b[0;34m:\u001b[0m\u001b[0;34m\u001b[0m\u001b[0;34m\u001b[0m\u001b[0m\n",
            "\u001b[0;32mindex.pyx\u001b[0m in \u001b[0;36mpandas._libs.index.IndexEngine.get_loc\u001b[0;34m()\u001b[0m\n",
            "\u001b[0;32mindex.pyx\u001b[0m in \u001b[0;36mpandas._libs.index.IndexEngine.get_loc\u001b[0;34m()\u001b[0m\n",
            "\u001b[0;32mpandas/_libs/hashtable_class_helper.pxi\u001b[0m in \u001b[0;36mpandas._libs.hashtable.PyObjectHashTable.get_item\u001b[0;34m()\u001b[0m\n",
            "\u001b[0;32mpandas/_libs/hashtable_class_helper.pxi\u001b[0m in \u001b[0;36mpandas._libs.hashtable.PyObjectHashTable.get_item\u001b[0;34m()\u001b[0m\n",
            "\u001b[0;31mKeyError\u001b[0m: 'financialData.returnOnAssets.raw'",
            "\nThe above exception was the direct cause of the following exception:\n",
            "\u001b[0;31mKeyError\u001b[0m                                  Traceback (most recent call last)",
            "\u001b[0;32m<ipython-input-17-fc264a733183>\u001b[0m in \u001b[0;36m<cell line: 0>\u001b[0;34m()\u001b[0m\n\u001b[1;32m     30\u001b[0m   \u001b[0mprint\u001b[0m\u001b[0;34m(\u001b[0m\u001b[0;34m\"52 week high is: $\"\u001b[0m \u001b[0;34m+\u001b[0m \u001b[0mstr\u001b[0m\u001b[0;34m(\u001b[0m\u001b[0mdf\u001b[0m\u001b[0;34m[\u001b[0m\u001b[0;34m'summaryDetail.fiftyTwoWeekHigh.fmt'\u001b[0m\u001b[0;34m]\u001b[0m\u001b[0;34m.\u001b[0m\u001b[0mvalues\u001b[0m\u001b[0;34m[\u001b[0m\u001b[0;36m0\u001b[0m\u001b[0;34m]\u001b[0m\u001b[0;34m)\u001b[0m\u001b[0;34m.\u001b[0m\u001b[0mstrip\u001b[0m\u001b[0;34m(\u001b[0m\u001b[0;34m)\u001b[0m\u001b[0;34m)\u001b[0m\u001b[0;34m\u001b[0m\u001b[0;34m\u001b[0m\u001b[0m\n\u001b[1;32m     31\u001b[0m   \u001b[0mprint\u001b[0m\u001b[0;34m(\u001b[0m\u001b[0;34m\"52 week low is: $\"\u001b[0m \u001b[0;34m+\u001b[0m \u001b[0mstr\u001b[0m\u001b[0;34m(\u001b[0m\u001b[0mdf\u001b[0m\u001b[0;34m[\u001b[0m\u001b[0;34m'summaryDetail.fiftyTwoWeekLow.fmt'\u001b[0m\u001b[0;34m]\u001b[0m\u001b[0;34m.\u001b[0m\u001b[0mvalues\u001b[0m\u001b[0;34m[\u001b[0m\u001b[0;36m0\u001b[0m\u001b[0;34m]\u001b[0m\u001b[0;34m)\u001b[0m\u001b[0;34m.\u001b[0m\u001b[0mstrip\u001b[0m\u001b[0;34m(\u001b[0m\u001b[0;34m)\u001b[0m\u001b[0;34m)\u001b[0m\u001b[0;34m\u001b[0m\u001b[0;34m\u001b[0m\u001b[0m\n\u001b[0;32m---> 32\u001b[0;31m   \u001b[0mprint\u001b[0m\u001b[0;34m(\u001b[0m\u001b[0;34m\"ROA is: \"\u001b[0m \u001b[0;34m+\u001b[0m \u001b[0mstr\u001b[0m\u001b[0;34m(\u001b[0m\u001b[0mdf\u001b[0m\u001b[0;34m[\u001b[0m\u001b[0;34m'financialData.returnOnAssets.raw'\u001b[0m\u001b[0;34m]\u001b[0m\u001b[0;34m.\u001b[0m\u001b[0mvalues\u001b[0m\u001b[0;34m[\u001b[0m\u001b[0;36m0\u001b[0m\u001b[0;34m]\u001b[0m\u001b[0;34m)\u001b[0m\u001b[0;34m.\u001b[0m\u001b[0mstrip\u001b[0m\u001b[0;34m(\u001b[0m\u001b[0;34m)\u001b[0m\u001b[0;34m)\u001b[0m\u001b[0;34m\u001b[0m\u001b[0;34m\u001b[0m\u001b[0m\n\u001b[0m\u001b[1;32m     33\u001b[0m \u001b[0;34m\u001b[0m\u001b[0m\n",
            "\u001b[0;32m/usr/local/lib/python3.11/dist-packages/pandas/core/frame.py\u001b[0m in \u001b[0;36m__getitem__\u001b[0;34m(self, key)\u001b[0m\n\u001b[1;32m   4100\u001b[0m             \u001b[0;32mif\u001b[0m \u001b[0mself\u001b[0m\u001b[0;34m.\u001b[0m\u001b[0mcolumns\u001b[0m\u001b[0;34m.\u001b[0m\u001b[0mnlevels\u001b[0m \u001b[0;34m>\u001b[0m \u001b[0;36m1\u001b[0m\u001b[0;34m:\u001b[0m\u001b[0;34m\u001b[0m\u001b[0;34m\u001b[0m\u001b[0m\n\u001b[1;32m   4101\u001b[0m                 \u001b[0;32mreturn\u001b[0m \u001b[0mself\u001b[0m\u001b[0;34m.\u001b[0m\u001b[0m_getitem_multilevel\u001b[0m\u001b[0;34m(\u001b[0m\u001b[0mkey\u001b[0m\u001b[0;34m)\u001b[0m\u001b[0;34m\u001b[0m\u001b[0;34m\u001b[0m\u001b[0m\n\u001b[0;32m-> 4102\u001b[0;31m             \u001b[0mindexer\u001b[0m \u001b[0;34m=\u001b[0m \u001b[0mself\u001b[0m\u001b[0;34m.\u001b[0m\u001b[0mcolumns\u001b[0m\u001b[0;34m.\u001b[0m\u001b[0mget_loc\u001b[0m\u001b[0;34m(\u001b[0m\u001b[0mkey\u001b[0m\u001b[0;34m)\u001b[0m\u001b[0;34m\u001b[0m\u001b[0;34m\u001b[0m\u001b[0m\n\u001b[0m\u001b[1;32m   4103\u001b[0m             \u001b[0;32mif\u001b[0m \u001b[0mis_integer\u001b[0m\u001b[0;34m(\u001b[0m\u001b[0mindexer\u001b[0m\u001b[0;34m)\u001b[0m\u001b[0;34m:\u001b[0m\u001b[0;34m\u001b[0m\u001b[0;34m\u001b[0m\u001b[0m\n\u001b[1;32m   4104\u001b[0m                 \u001b[0mindexer\u001b[0m \u001b[0;34m=\u001b[0m \u001b[0;34m[\u001b[0m\u001b[0mindexer\u001b[0m\u001b[0;34m]\u001b[0m\u001b[0;34m\u001b[0m\u001b[0;34m\u001b[0m\u001b[0m\n",
            "\u001b[0;32m/usr/local/lib/python3.11/dist-packages/pandas/core/indexes/base.py\u001b[0m in \u001b[0;36mget_loc\u001b[0;34m(self, key)\u001b[0m\n\u001b[1;32m   3810\u001b[0m             ):\n\u001b[1;32m   3811\u001b[0m                 \u001b[0;32mraise\u001b[0m \u001b[0mInvalidIndexError\u001b[0m\u001b[0;34m(\u001b[0m\u001b[0mkey\u001b[0m\u001b[0;34m)\u001b[0m\u001b[0;34m\u001b[0m\u001b[0;34m\u001b[0m\u001b[0m\n\u001b[0;32m-> 3812\u001b[0;31m             \u001b[0;32mraise\u001b[0m \u001b[0mKeyError\u001b[0m\u001b[0;34m(\u001b[0m\u001b[0mkey\u001b[0m\u001b[0;34m)\u001b[0m \u001b[0;32mfrom\u001b[0m \u001b[0merr\u001b[0m\u001b[0;34m\u001b[0m\u001b[0;34m\u001b[0m\u001b[0m\n\u001b[0m\u001b[1;32m   3813\u001b[0m         \u001b[0;32mexcept\u001b[0m \u001b[0mTypeError\u001b[0m\u001b[0;34m:\u001b[0m\u001b[0;34m\u001b[0m\u001b[0;34m\u001b[0m\u001b[0m\n\u001b[1;32m   3814\u001b[0m             \u001b[0;31m# If we have a listlike key, _check_indexing_error will raise\u001b[0m\u001b[0;34m\u001b[0m\u001b[0;34m\u001b[0m\u001b[0m\n",
            "\u001b[0;31mKeyError\u001b[0m: 'financialData.returnOnAssets.raw'"
          ]
        }
      ]
    },
    {
      "cell_type": "code",
      "source": [
        "api_key = ''\n",
        "tail_number = 'N272BG'\n",
        "date_from = '2025-02-20'\n",
        "date_to = '2025-02-25'\n",
        "\n",
        "url = f\"https://aerodatabox.p.rapidapi.com/flights/reg/{tail_number}/{date_from}/{date_to}\"\n",
        "\n",
        "headers = {\n",
        "    'x-rapidapi-host': 'aerodatabox.p.rapidapi.com',\n",
        "    'x-rapidapi-key': api_key\n",
        "}\n",
        "\n",
        "response = requests.get(url, headers=headers)\n",
        "print(json.dumps(response.json(), indent=4))\n",
        "# data = response.json()[0][\"arrival\"][\"airport\"][\"municipalityName\"]\n",
        "print(\"unless I webscrape, I can't really find elon through a free api, I paid for this current api\")"
      ],
      "metadata": {
        "colab": {
          "base_uri": "https://localhost:8080/"
        },
        "id": "qXwIUSYJouY-",
        "outputId": "54d4f021-9de8-486e-fb53-ea93655acd67"
      },
      "execution_count": null,
      "outputs": [
        {
          "output_type": "stream",
          "name": "stdout",
          "text": [
            "{\n",
            "    \"message\": \"The result is available but cannot be displayed for legal reasons: the aircraft owner blocked the flight from being displayed under the FAA LADD Program (https://www.faa.gov/pilots/ladd)\"\n",
            "}\n",
            "unless I webscrape, I can't really find elon through a free api, I paid for this current api\n"
          ]
        }
      ]
    },
    {
      "cell_type": "markdown",
      "source": [],
      "metadata": {
        "id": "kWXkmJcvouM7"
      }
    }
  ]
}